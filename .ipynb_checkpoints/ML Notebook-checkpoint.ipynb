{
 "cells": [
  {
   "cell_type": "code",
   "execution_count": 28,
   "metadata": {
    "collapsed": false
   },
   "outputs": [
    {
     "name": "stderr",
     "output_type": "stream",
     "text": [
      "C:\\Users\\luco\\AppData\\Local\\Continuum\\Anaconda2\\lib\\site-packages\\sklearn\\cross_validation.py:44: DeprecationWarning: This module was deprecated in version 0.18 in favor of the model_selection module into which all the refactored classes and functions are moved. Also note that the interface of the new CV iterators are different from that of this module. This module will be removed in 0.20.\n",
      "  \"This module will be removed in 0.20.\", DeprecationWarning)\n",
      "C:\\Users\\luco\\AppData\\Local\\Continuum\\Anaconda2\\lib\\site-packages\\sklearn\\grid_search.py:43: DeprecationWarning: This module was deprecated in version 0.18 in favor of the model_selection module into which all the refactored classes and functions are moved. This module will be removed in 0.20.\n",
      "  DeprecationWarning)\n",
      "C:\\Users\\luco\\AppData\\Local\\Continuum\\Anaconda2\\lib\\site-packages\\sklearn\\lda.py:6: DeprecationWarning: lda.LDA has been moved to discriminant_analysis.LinearDiscriminantAnalysis in 0.17 and will be removed in 0.19\n",
      "  \"in 0.17 and will be removed in 0.19\", DeprecationWarning)\n",
      "C:\\Users\\luco\\AppData\\Local\\Continuum\\Anaconda2\\lib\\site-packages\\sklearn\\learning_curve.py:23: DeprecationWarning: This module was deprecated in version 0.18 in favor of the model_selection module into which all the functions are moved. This module will be removed in 0.20\n",
      "  DeprecationWarning)\n",
      "C:\\Users\\luco\\AppData\\Local\\Continuum\\Anaconda2\\lib\\site-packages\\sklearn\\qda.py:6: DeprecationWarning: qda.QDA has been moved to discriminant_analysis.QuadraticDiscriminantAnalysis in 0.17 and will be removed in 0.19.\n",
      "  \"in 0.17 and will be removed in 0.19.\", DeprecationWarning)\n"
     ]
    }
   ],
   "source": [
    "import numpy as np\n",
    "import pandas as pd\n",
    "from sklearn import *"
   ]
  },
  {
   "cell_type": "code",
   "execution_count": 41,
   "metadata": {
    "collapsed": false
   },
   "outputs": [
    {
     "name": "stdout",
     "output_type": "stream",
     "text": [
      "1         int64\n",
      "2         int64\n",
      "3         int64\n",
      "4         int64\n",
      "5         int64\n",
      "6         int64\n",
      "7         int64\n",
      "8         int64\n",
      "9         int64\n",
      "10        int64\n",
      "11        int64\n",
      "12        int64\n",
      "13        int64\n",
      "14        int64\n",
      "15        int64\n",
      "16        int64\n",
      "target    int64\n",
      "dtype: object\n",
      "   1   2  3  4  5   6   7  8  9  10  11  12  13  14  15  16  target\n",
      "0  2   8  3  5  1   8  13  0  6   6  10   8   0   8   0   8      19\n",
      "1  5  12  3  7  2  10   5  5  4  13   3   9   2   8   4  10       8\n",
      "2  4  11  6  8  6  10   6  2  6  10   3   7   3   7   3   9       3\n",
      "3  7  11  6  6  3   5   9  4  6   4   4  10   6  10   2   8      13\n",
      "4  2   1  3  1  1   8   6  6  6   6   5   9   1   7   5  10       6\n"
     ]
    }
   ],
   "source": [
    "df = pd.read_csv('letter-recognition.data', header=None)\n",
    "df['target'] = df[0].apply(lambda x: ord(x) - ord('A'))\n",
    "del df[0]\n",
    "print df.dtypes\n",
    "print df.head()"
   ]
  },
  {
   "cell_type": "code",
   "execution_count": 55,
   "metadata": {
    "collapsed": false
   },
   "outputs": [
    {
     "name": "stdout",
     "output_type": "stream",
     "text": [
      "(14000L, 17L)\n",
      "(6000L, 17L)\n"
     ]
    }
   ],
   "source": [
    "data = df.values\n",
    "np.random.shuffle(data)\n",
    "r, c = data.shape\n",
    "training_split = 0.7\n",
    "training_rows = int(training_split * r)\n",
    "training_data = data[:training_rows, :]\n",
    "test_data = data[training_rows:, :]\n",
    "print training_data.shape\n",
    "print test_data.shape"
   ]
  },
  {
   "cell_type": "code",
   "execution_count": 58,
   "metadata": {
    "collapsed": false
   },
   "outputs": [],
   "source": [
    "train_x = training_data[:, :-1]\n",
    "train_y = training_data[:, -1]\n",
    "test_x = test_data[:, :-1]\n",
    "test_y = test_data[:, -1]"
   ]
  },
  {
   "cell_type": "code",
   "execution_count": 59,
   "metadata": {
    "collapsed": true
   },
   "outputs": [],
   "source": [
    "clf = tree.DecisionTreeClassifier()\n",
    "clf = clf.fit(train_x, train_y)"
   ]
  },
  {
   "cell_type": "code",
   "execution_count": null,
   "metadata": {
    "collapsed": true
   },
   "outputs": [],
   "source": []
  }
 ],
 "metadata": {
  "kernelspec": {
   "display_name": "Python 2",
   "language": "python",
   "name": "python2"
  },
  "language_info": {
   "codemirror_mode": {
    "name": "ipython",
    "version": 2
   },
   "file_extension": ".py",
   "mimetype": "text/x-python",
   "name": "python",
   "nbconvert_exporter": "python",
   "pygments_lexer": "ipython2",
   "version": "2.7.13"
  }
 },
 "nbformat": 4,
 "nbformat_minor": 0
}
