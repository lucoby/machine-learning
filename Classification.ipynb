{
 "cells": [
  {
   "cell_type": "markdown",
   "metadata": {},
   "source": [
    "# Classification\n",
    "\n",
    "## Imports"
   ]
  },
  {
   "cell_type": "code",
   "execution_count": 44,
   "metadata": {},
   "outputs": [],
   "source": [
    "from matplotlib.colors import ListedColormap\n",
    "import matplotlib.pyplot as plt\n",
    "import numpy as np\n",
    "import pandas as pd\n",
    "import graphviz\n",
    "\n",
    "from sklearn.datasets import load_boston, load_iris, load_wine\n",
    "from sklearn.model_selection import train_test_split, GridSearchCV\n",
    "from sklearn.linear_model import LogisticRegression\n",
    "from sklearn.neighbors import KNeighborsClassifier\n",
    "from sklearn.neural_network import MLPClassifier\n",
    "from sklearn.tree import DecisionTreeClassifier\n",
    "from sklearn.ensemble import RandomForestClassifier, AdaBoostClassifier, GradientBoostingClassifier\n",
    "\n",
    "import seaborn as sns"
   ]
  },
  {
   "cell_type": "markdown",
   "metadata": {},
   "source": [
    "## Read in Data"
   ]
  },
  {
   "cell_type": "code",
   "execution_count": 45,
   "metadata": {},
   "outputs": [
    {
     "name": "stdout",
     "output_type": "stream",
     "text": [
      "Feature names: ['alcohol', 'malic_acid', 'ash', 'alcalinity_of_ash', 'magnesium', 'total_phenols', 'flavanoids', 'nonflavanoid_phenols', 'proanthocyanins', 'color_intensity', 'hue', 'od280/od315_of_diluted_wines', 'proline']\n",
      "Target names: ['class_0' 'class_1' 'class_2']\n",
      "Shape: (178, 13)\n"
     ]
    }
   ],
   "source": [
    "data_wine = load_wine()\n",
    "print(\"Feature names:\", data_wine.feature_names)\n",
    "print(\"Target names:\", data_wine.target_names)\n",
    "print(\"Shape:\", data_wine.data.shape)\n",
    "\n",
    "X_train, X_test, y_train, y_test = train_test_split(data_wine.data, data_wine.target, test_size=0.20)"
   ]
  },
  {
   "cell_type": "code",
   "execution_count": 43,
   "metadata": {},
   "outputs": [
    {
     "name": "stdout",
     "output_type": "stream",
     "text": [
      "Feature names: ['sepal length (cm)', 'sepal width (cm)', 'petal length (cm)', 'petal width (cm)']\n",
      "Target names: ['setosa' 'versicolor' 'virginica']\n",
      "Shape: (150, 4)\n"
     ]
    }
   ],
   "source": [
    "data_iris = load_iris()\n",
    "print(\"Feature names:\", data_iris.feature_names)\n",
    "print(\"Target names:\", data_iris.target_names)\n",
    "print(\"Shape:\", data_iris.data.shape)\n",
    "\n",
    "X_train, X_test, y_train, y_test = train_test_split(data_iris.data, data_iris.target, test_size=0.20)"
   ]
  },
  {
   "cell_type": "markdown",
   "metadata": {},
   "source": [
    "## Building Models\n",
    "\n",
    "### Logistic Regression"
   ]
  },
  {
   "cell_type": "code",
   "execution_count": 28,
   "metadata": {},
   "outputs": [
    {
     "name": "stdout",
     "output_type": "stream",
     "text": [
      "                                            params  mean_fit_time  \\\n",
      "1     {'criterion': 'gini', 'min_samples_leaf': 3}       0.000704   \n",
      "2     {'criterion': 'gini', 'min_samples_leaf': 5}       0.001102   \n",
      "0     {'criterion': 'gini', 'min_samples_leaf': 1}       0.000964   \n",
      "3  {'criterion': 'entropy', 'min_samples_leaf': 1}       0.001164   \n",
      "4  {'criterion': 'entropy', 'min_samples_leaf': 3}       0.000997   \n",
      "5  {'criterion': 'entropy', 'min_samples_leaf': 5}       0.001414   \n",
      "\n",
      "   mean_score_time  mean_test_score  \n",
      "1         0.000212         0.936620  \n",
      "2         0.000210         0.936620  \n",
      "0         0.000467         0.922535  \n",
      "3         0.000248         0.908451  \n",
      "4         0.000543         0.908451  \n",
      "5         0.000435         0.901408  \n"
     ]
    }
   ],
   "source": [
    "dt = DecisionTreeClassifier()\n",
    "parameters = {'criterion': ('gini', 'entropy'), 'min_samples_leaf':[1, 3, 5]}\n",
    "clf = GridSearchCV(dt, parameters, cv=5, return_train_score=True)\n",
    "clf.fit(X_train, y_train)\n",
    "cv_results = pd.DataFrame(clf.cv_results_)\n",
    "print(cv_results[['params', 'mean_fit_time', 'mean_score_time', 'mean_test_score']].sort_values(by='mean_test_score', ascending=False))"
   ]
  },
  {
   "cell_type": "markdown",
   "metadata": {},
   "source": [
    "### Decision Trees"
   ]
  },
  {
   "cell_type": "code",
   "execution_count": 29,
   "metadata": {
    "scrolled": true
   },
   "outputs": [
    {
     "name": "stdout",
     "output_type": "stream",
     "text": [
      "                                      params  mean_fit_time  mean_score_time  \\\n",
      "0   {'fit_intercept': True, 'penalty': 'l1'}       0.008740         0.000365   \n",
      "2  {'fit_intercept': False, 'penalty': 'l1'}       0.008785         0.000200   \n",
      "1   {'fit_intercept': True, 'penalty': 'l2'}       0.001618         0.000567   \n",
      "3  {'fit_intercept': False, 'penalty': 'l2'}       0.002788         0.000200   \n",
      "\n",
      "   mean_test_score  \n",
      "0         0.943662  \n",
      "2         0.943662  \n",
      "1         0.936620  \n",
      "3         0.936620  \n"
     ]
    }
   ],
   "source": [
    "lr = LogisticRegression()\n",
    "parameters = {'fit_intercept': (True, False), 'penalty':('l1', 'l2')}\n",
    "clf = GridSearchCV(lr, parameters, cv=5, return_train_score=True)\n",
    "clf.fit(X_train, y_train)\n",
    "cv_results = pd.DataFrame(clf.cv_results_)\n",
    "print(cv_results[['params', 'mean_fit_time', 'mean_score_time', 'mean_test_score']].sort_values(by='mean_test_score', ascending=False))"
   ]
  },
  {
   "cell_type": "markdown",
   "metadata": {},
   "source": [
    "### kNN"
   ]
  },
  {
   "cell_type": "code",
   "execution_count": 30,
   "metadata": {},
   "outputs": [
    {
     "name": "stdout",
     "output_type": "stream",
     "text": [
      "                                       params  mean_fit_time  mean_score_time  \\\n",
      "0    {'n_neighbors': 1, 'weights': 'uniform'}       0.000992         0.000962   \n",
      "1   {'n_neighbors': 1, 'weights': 'distance'}       0.000863         0.000928   \n",
      "3   {'n_neighbors': 3, 'weights': 'distance'}       0.000613         0.000691   \n",
      "5   {'n_neighbors': 5, 'weights': 'distance'}       0.000405         0.000545   \n",
      "7  {'n_neighbors': 10, 'weights': 'distance'}       0.000618         0.000985   \n",
      "4    {'n_neighbors': 5, 'weights': 'uniform'}       0.000321         0.001191   \n",
      "6   {'n_neighbors': 10, 'weights': 'uniform'}       0.000426         0.001188   \n",
      "2    {'n_neighbors': 3, 'weights': 'uniform'}       0.000586         0.000825   \n",
      "\n",
      "   mean_test_score  \n",
      "0         0.760563  \n",
      "1         0.760563  \n",
      "3         0.753521  \n",
      "5         0.753521  \n",
      "7         0.746479  \n",
      "4         0.697183  \n",
      "6         0.697183  \n",
      "2         0.669014  \n"
     ]
    }
   ],
   "source": [
    "nbrs = KNeighborsClassifier()\n",
    "parameters = {'n_neighbors':[1, 3, 5, 10], 'weights': ('uniform', 'distance')}\n",
    "clf = GridSearchCV(nbrs, parameters, cv=5, return_train_score=True)\n",
    "clf.fit(X_train, y_train)\n",
    "cv_results = pd.DataFrame(clf.cv_results_)\n",
    "print(cv_results[['params', 'mean_fit_time', 'mean_score_time', 'mean_test_score']].sort_values(by='mean_test_score', ascending=False))"
   ]
  },
  {
   "cell_type": "markdown",
   "metadata": {},
   "source": [
    "### Neural Nets"
   ]
  },
  {
   "cell_type": "code",
   "execution_count": 36,
   "metadata": {},
   "outputs": [
    {
     "name": "stderr",
     "output_type": "stream",
     "text": [
      "C:\\Users\\CobyLU\\Anaconda3\\lib\\site-packages\\sklearn\\neural_network\\multilayer_perceptron.py:564: ConvergenceWarning: Stochastic Optimizer: Maximum iterations (200) reached and the optimization hasn't converged yet.\n",
      "  % self.max_iter, ConvergenceWarning)\n",
      "C:\\Users\\CobyLU\\Anaconda3\\lib\\site-packages\\sklearn\\neural_network\\multilayer_perceptron.py:564: ConvergenceWarning: Stochastic Optimizer: Maximum iterations (200) reached and the optimization hasn't converged yet.\n",
      "  % self.max_iter, ConvergenceWarning)\n"
     ]
    },
    {
     "name": "stdout",
     "output_type": "stream",
     "text": [
      "                                               params  mean_fit_time  \\\n",
      "9   {'hidden_layer_sizes': 150, 'learning_rate_ini...       0.013564   \n",
      "8   {'hidden_layer_sizes': 150, 'learning_rate_ini...       0.018152   \n",
      "4   {'hidden_layer_sizes': 100, 'learning_rate_ini...       0.024933   \n",
      "5   {'hidden_layer_sizes': 100, 'learning_rate_ini...       0.011969   \n",
      "11  {'hidden_layer_sizes': 150, 'learning_rate_ini...       0.004588   \n",
      "14  {'hidden_layer_sizes': (100, 50), 'learning_ra...       0.010372   \n",
      "6   {'hidden_layer_sizes': 100, 'learning_rate_ini...       0.004388   \n",
      "13  {'hidden_layer_sizes': (100, 50), 'learning_ra...       0.007779   \n",
      "12  {'hidden_layer_sizes': (100, 50), 'learning_ra...       0.007380   \n",
      "3   {'hidden_layer_sizes': 50, 'learning_rate_init...       0.003989   \n",
      "\n",
      "    mean_score_time  mean_test_score  \n",
      "9          0.000000         0.436620  \n",
      "8          0.000599         0.429577  \n",
      "4          0.000200         0.422535  \n",
      "5          0.000598         0.394366  \n",
      "11         0.000599         0.387324  \n",
      "14         0.000399         0.387324  \n",
      "6          0.000200         0.366197  \n",
      "13         0.000599         0.366197  \n",
      "12         0.000199         0.359155  \n",
      "3          0.000598         0.345070  \n"
     ]
    }
   ],
   "source": [
    "mlp = MLPClassifier(solver='sgd', learning_rate='constant')\n",
    "parameters = {'hidden_layer_sizes':[(50), (100), (150), (100, 50)], 'learning_rate_init': [0.0005, 0.001, 0.005, 0.01]}\n",
    "clf = GridSearchCV(mlp, parameters, cv=5, return_train_score=True)\n",
    "clf.fit(X_train, y_train)\n",
    "cv_results = pd.DataFrame(clf.cv_results_)\n",
    "print(cv_results[['params', 'mean_fit_time', 'mean_score_time', 'mean_test_score']].sort_values(by='mean_test_score', ascending=False).head(10))"
   ]
  },
  {
   "cell_type": "markdown",
   "metadata": {},
   "source": [
    "### Ensembles\n",
    "\n",
    "#### Random Forest"
   ]
  },
  {
   "cell_type": "code",
   "execution_count": 38,
   "metadata": {
    "scrolled": true
   },
   "outputs": [
    {
     "name": "stdout",
     "output_type": "stream",
     "text": [
      "                                               params  mean_fit_time  \\\n",
      "50  {'max_depth': 5, 'min_samples_leaf': 5, 'n_est...       0.020546   \n",
      "61  {'max_depth': 10, 'min_samples_leaf': 1, 'n_es...       0.010769   \n",
      "31  {'max_depth': 3, 'min_samples_leaf': 5, 'n_est...       0.051661   \n",
      "22  {'max_depth': 3, 'min_samples_leaf': 1, 'n_est...       0.022740   \n",
      "26  {'max_depth': 3, 'min_samples_leaf': 3, 'n_est...       0.021734   \n",
      "63  {'max_depth': 10, 'min_samples_leaf': 1, 'n_es...       0.050888   \n",
      "62  {'max_depth': 10, 'min_samples_leaf': 1, 'n_es...       0.020339   \n",
      "42  {'max_depth': 5, 'min_samples_leaf': 1, 'n_est...       0.020745   \n",
      "11  {'max_depth': 1, 'min_samples_leaf': 5, 'n_est...       0.048669   \n",
      "15  {'max_depth': 1, 'min_samples_leaf': 10, 'n_es...       0.054457   \n",
      "\n",
      "    mean_score_time  mean_test_score  \n",
      "50         0.001595         0.971831  \n",
      "61         0.000598         0.971831  \n",
      "31         0.003200         0.964789  \n",
      "22         0.001396         0.964789  \n",
      "26         0.001205         0.964789  \n",
      "63         0.002976         0.964789  \n",
      "62         0.001594         0.964789  \n",
      "42         0.001406         0.964789  \n",
      "11         0.002984         0.964789  \n",
      "15         0.002989         0.964789  \n"
     ]
    }
   ],
   "source": [
    "rf = RandomForestClassifier()\n",
    "parameters = {'max_depth': [1, 3, 5, 10],\n",
    "              'min_samples_leaf': [1, 3, 5, 10, 20],\n",
    "              'n_estimators': [5, 10, 20, 50]}\n",
    "clf = GridSearchCV(rf, parameters, cv=5, return_train_score=True)\n",
    "clf.fit(X_train, y_train)\n",
    "cv_results = pd.DataFrame(clf.cv_results_)\n",
    "print(cv_results[['params', 'mean_fit_time', 'mean_score_time', 'mean_test_score']].sort_values(by='mean_test_score', ascending=False).head(10))"
   ]
  },
  {
   "cell_type": "code",
   "execution_count": 39,
   "metadata": {},
   "outputs": [
    {
     "name": "stdout",
     "output_type": "stream",
     "text": [
      "                                               params  mean_fit_time  \\\n",
      "19  {'base_estimator__criterion': 'gini', 'base_es...       0.089950   \n",
      "39  {'base_estimator__criterion': 'entropy', 'base...       0.070620   \n",
      "7   {'base_estimator__criterion': 'gini', 'base_es...       0.072016   \n",
      "14  {'base_estimator__criterion': 'gini', 'base_es...       0.031298   \n",
      "34  {'base_estimator__criterion': 'entropy', 'base...       0.034716   \n",
      "35  {'base_estimator__criterion': 'entropy', 'base...       0.081567   \n",
      "11  {'base_estimator__criterion': 'gini', 'base_es...       0.071824   \n",
      "30  {'base_estimator__criterion': 'entropy', 'base...       0.032721   \n",
      "4   {'base_estimator__criterion': 'gini', 'base_es...       0.007579   \n",
      "5   {'base_estimator__criterion': 'gini', 'base_es...       0.012168   \n",
      "\n",
      "    mean_score_time  mean_test_score  \n",
      "19         0.005993         0.978873  \n",
      "39         0.003588         0.971831  \n",
      "7          0.003195         0.971831  \n",
      "14         0.002006         0.964789  \n",
      "34         0.002000         0.964789  \n",
      "35         0.004403         0.964789  \n",
      "11         0.003966         0.964789  \n",
      "30         0.001786         0.957746  \n",
      "4          0.000200         0.957746  \n",
      "5          0.000997         0.957746  \n"
     ]
    }
   ],
   "source": [
    "ada = AdaBoostClassifier(base_estimator=DecisionTreeClassifier())\n",
    "parameters = {'base_estimator__criterion':['gini', 'entropy'], \n",
    "              'base_estimator__min_samples_leaf': [1, 3, 5, 10, 20],\n",
    "              'n_estimators': [5, 10, 20, 50]}\n",
    "clf = GridSearchCV(ada, parameters, cv=5, return_train_score=True)\n",
    "clf.fit(X_train, y_train)\n",
    "cv_results = pd.DataFrame(clf.cv_results_)\n",
    "print(cv_results[['params', 'mean_fit_time', 'mean_score_time', 'mean_test_score']].sort_values(by='mean_test_score', ascending=False).head(10))"
   ]
  },
  {
   "cell_type": "code",
   "execution_count": 41,
   "metadata": {},
   "outputs": [
    {
     "name": "stdout",
     "output_type": "stream",
     "text": [
      "                                           params  mean_fit_time  \\\n",
      "14   {'min_samples_leaf': 5, 'n_estimators': 100}       0.158775   \n",
      "0      {'min_samples_leaf': 1, 'n_estimators': 5}       0.013176   \n",
      "7     {'min_samples_leaf': 3, 'n_estimators': 20}       0.058444   \n",
      "23   {'min_samples_leaf': 20, 'n_estimators': 50}       0.072406   \n",
      "19  {'min_samples_leaf': 10, 'n_estimators': 100}       0.164162   \n",
      "9    {'min_samples_leaf': 3, 'n_estimators': 100}       0.185703   \n",
      "8     {'min_samples_leaf': 3, 'n_estimators': 50}       0.130053   \n",
      "12    {'min_samples_leaf': 5, 'n_estimators': 20}       0.042885   \n",
      "24  {'min_samples_leaf': 20, 'n_estimators': 100}       0.135820   \n",
      "2     {'min_samples_leaf': 1, 'n_estimators': 20}       0.033710   \n",
      "\n",
      "    mean_score_time  mean_test_score  \n",
      "14         0.000399         0.971831  \n",
      "0          0.000798         0.957746  \n",
      "7          0.000599         0.957746  \n",
      "23         0.000598         0.957746  \n",
      "19         0.000997         0.957746  \n",
      "9          0.000798         0.957746  \n",
      "8          0.000798         0.957746  \n",
      "12         0.000599         0.957746  \n",
      "24         0.000815         0.957746  \n",
      "2          0.000199         0.957746  \n"
     ]
    }
   ],
   "source": [
    "gbm = GradientBoostingClassifier()\n",
    "parameters = {'min_samples_leaf': [1, 3, 5, 10, 20],\n",
    "              'n_estimators': [5, 10, 20, 50, 100]}\n",
    "clf = GridSearchCV(gbm, parameters, cv=5, return_train_score=True)\n",
    "clf.fit(X_train, y_train)\n",
    "cv_results = pd.DataFrame(clf.cv_results_)\n",
    "print(cv_results[['params', 'mean_fit_time', 'mean_score_time', 'mean_test_score']].sort_values(by='mean_test_score', ascending=False).head(10))"
   ]
  },
  {
   "cell_type": "code",
   "execution_count": null,
   "metadata": {},
   "outputs": [],
   "source": []
  }
 ],
 "metadata": {
  "kernelspec": {
   "display_name": "Python 3",
   "language": "python",
   "name": "python3"
  },
  "language_info": {
   "codemirror_mode": {
    "name": "ipython",
    "version": 3
   },
   "file_extension": ".py",
   "mimetype": "text/x-python",
   "name": "python",
   "nbconvert_exporter": "python",
   "pygments_lexer": "ipython3",
   "version": "3.6.5"
  }
 },
 "nbformat": 4,
 "nbformat_minor": 1
}
