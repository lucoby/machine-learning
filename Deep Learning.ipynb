{
    "nbformat_minor": 1, 
    "metadata": {
        "language_info": {
            "codemirror_mode": {
                "name": "ipython", 
                "version": 3
            }, 
            "pygments_lexer": "ipython3", 
            "name": "python", 
            "file_extension": ".py", 
            "version": "3.5.2", 
            "mimetype": "text/x-python", 
            "nbconvert_exporter": "python"
        }, 
        "kernelspec": {
            "language": "python", 
            "name": "python3-spark20", 
            "display_name": "Python 3.5 (Experimental) with Spark 2.0"
        }
    }, 
    "cells": [
        {
            "execution_count": 1, 
            "source": "from tensorflow.examples.tutorials.mnist import input_data\nmnist = input_data.read_data_sets('MNIST_data', one_hot=True)\n\nimport tensorflow as tf\nsess = tf.InteractiveSession()", 
            "metadata": {}, 
            "cell_type": "code", 
            "outputs": [
                {
                    "name": "stdout", 
                    "output_type": "stream", 
                    "text": "Extracting MNIST_data/train-images-idx3-ubyte.gz\nExtracting MNIST_data/train-labels-idx1-ubyte.gz\nExtracting MNIST_data/t10k-images-idx3-ubyte.gz\nExtracting MNIST_data/t10k-labels-idx1-ubyte.gz\n"
                }
            ]
        }, 
        {
            "execution_count": 2, 
            "source": "x = tf.placeholder(tf.float32, shape=[None, 784])\ny_ = tf.placeholder(tf.float32, shape=[None, 10])", 
            "metadata": {
                "collapsed": true
            }, 
            "cell_type": "code", 
            "outputs": []
        }, 
        {
            "execution_count": null, 
            "source": "W = tf.Variable(tf.zeros([784,10]))\nb = tf.Variable(tf.zeros([10]))\n\nsess.run(tf.global_variables_initializer())", 
            "metadata": {
                "collapsed": true
            }, 
            "cell_type": "code", 
            "outputs": []
        }, 
        {
            "execution_count": null, 
            "source": "y = tf.matmul(x,W) + b\n\ncross_entropy = tf.reduce_mean(tf.nn.softmax_cross_entropy_with_logits(labels=y_, logits=y))\n\ntrain_step = tf.train.GradientDescentOptimizer(0.5).minimize(cross_entropy)\nfor _ in range(1000):\n    batch = mnist.train.next_batch(100)\n    train_step.run(feed_dict={x: batch[0], y_: batch[1]})", 
            "metadata": {
                "collapsed": true
            }, 
            "cell_type": "code", 
            "outputs": []
        }, 
        {
            "execution_count": null, 
            "source": "correct_prediction = tf.equal(tf.argmax(y,1), tf.argmax(y_,1))\naccuracy = tf.reduce_mean(tf.cast(correct_prediction, tf.float32))\nprint(accuracy.eval(feed_dict={x: mnist.test.images, y_: mnist.test.labels}))", 
            "metadata": {}, 
            "cell_type": "code", 
            "outputs": []
        }, 
        {
            "execution_count": 7, 
            "source": "def weight_variable(shape):\n    initial = tf.truncated_normal(shape, stddev=0.1)\n    return tf.Variable(initial)\n\ndef bias_variable(shape):\n    initial = tf.constant(0.1, shape=shape)\n    return tf.Variable(initial)\n\ndef conv2d(x, W):\n    return tf.nn.conv2d(x, W, strides=[1, 1, 1, 1], padding='SAME')\n\ndef max_pool_2x2(x):\n    return tf.nn.max_pool(x, ksize=[1, 2, 2, 1], strides=[1, 2, 2, 1], padding='SAME')", 
            "metadata": {
                "collapsed": true
            }, 
            "cell_type": "code", 
            "outputs": []
        }, 
        {
            "execution_count": 8, 
            "source": "W_conv1 = weight_variable([5, 5, 1, 32])\nb_conv1 = bias_variable([32])\nx_image = tf.reshape(x, [-1, 28, 28, 1])\nh_conv1 = tf.nn.relu(conv2d(x_image, W_conv1) + b_conv1)\nh_pool1 = max_pool_2x2(h_conv1)", 
            "metadata": {
                "collapsed": true
            }, 
            "cell_type": "code", 
            "outputs": []
        }, 
        {
            "execution_count": 9, 
            "source": "W_conv2 = weight_variable([5, 5, 32, 64])\nb_conv2 = bias_variable([64])\n\nh_conv2 = tf.nn.relu(conv2d(h_pool1, W_conv2) + b_conv2)\nh_pool2 = max_pool_2x2(h_conv2)", 
            "metadata": {
                "collapsed": true
            }, 
            "cell_type": "code", 
            "outputs": []
        }, 
        {
            "execution_count": 10, 
            "source": "W_fc1 = weight_variable([7 * 7 * 64, 1024])\nb_fc1 = bias_variable([1024])\n\nh_pool2_flat = tf.reshape(h_pool2, [-1, 7*7*64])\nh_fc1 = tf.nn.relu(tf.matmul(h_pool2_flat, W_fc1) + b_fc1)", 
            "metadata": {
                "collapsed": true
            }, 
            "cell_type": "code", 
            "outputs": []
        }, 
        {
            "execution_count": 11, 
            "source": "keep_prob = tf.placeholder(tf.float32)\nh_fc1_drop = tf.nn.dropout(h_fc1, keep_prob)\n\nW_fc2 = weight_variable([1024, 10])\nb_fc2 = bias_variable([10])\n\ny_conv = tf.matmul(h_fc1_drop, W_fc2) + b_fc2", 
            "metadata": {}, 
            "cell_type": "code", 
            "outputs": []
        }, 
        {
            "execution_count": 12, 
            "source": "cross_entropy = tf.reduce_mean(\n        tf.nn.softmax_cross_entropy_with_logits(labels=y_, logits=y_conv))\ntrain_step = tf.train.AdamOptimizer(1e-4).minimize(cross_entropy)\ncorrect_prediction = tf.equal(tf.argmax(y_conv, 1), tf.argmax(y_, 1))\naccuracy = tf.reduce_mean(tf.cast(correct_prediction, tf.float32))\n\nwith tf.Session() as sess:\n    sess.run(tf.global_variables_initializer())\n    for i in range(20000):\n        batch = mnist.train.next_batch(50)\n        if i % 100 == 0:\n            train_accuracy = accuracy.eval(feed_dict={\n                    x: batch[0], y_: batch[1], keep_prob: 1.0})\n            print('step %d, training accuracy %g' % (i, train_accuracy))\n        train_step.run(feed_dict={x: batch[0], y_: batch[1], keep_prob: 0.5})\n\n    print('test accuracy %g' % accuracy.eval(feed_dict={\n            x: mnist.test.images, y_: mnist.test.labels, keep_prob: 1.0}))", 
            "metadata": {}, 
            "cell_type": "code", 
            "outputs": [
                {
                    "name": "stdout", 
                    "output_type": "stream", 
                    "text": "step 0, training accuracy 0.12\nstep 100, training accuracy 0.82\nstep 200, training accuracy 0.9\nstep 300, training accuracy 0.92\nstep 400, training accuracy 0.94\nstep 500, training accuracy 0.92\nstep 600, training accuracy 0.92\nstep 700, training accuracy 0.96\nstep 800, training accuracy 0.92\nstep 900, training accuracy 0.98\nstep 1000, training accuracy 0.94\nstep 1100, training accuracy 0.98\nstep 1200, training accuracy 0.92\nstep 1300, training accuracy 1\nstep 1400, training accuracy 0.94\nstep 1500, training accuracy 0.94\nstep 1600, training accuracy 0.98\nstep 1700, training accuracy 0.94\nstep 1800, training accuracy 1\nstep 1900, training accuracy 0.94\nstep 2000, training accuracy 1\nstep 2100, training accuracy 0.98\nstep 2200, training accuracy 0.98\nstep 2300, training accuracy 1\nstep 2400, training accuracy 0.98\nstep 2500, training accuracy 1\nstep 2600, training accuracy 1\nstep 2700, training accuracy 1\nstep 2800, training accuracy 1\nstep 2900, training accuracy 0.98\nstep 3000, training accuracy 0.94\nstep 3100, training accuracy 1\nstep 3200, training accuracy 1\nstep 3300, training accuracy 0.98\nstep 3400, training accuracy 0.98\nstep 3500, training accuracy 1\nstep 3600, training accuracy 1\nstep 3700, training accuracy 0.98\nstep 3800, training accuracy 1\nstep 3900, training accuracy 1\nstep 4000, training accuracy 1\nstep 4100, training accuracy 1\nstep 4200, training accuracy 1\nstep 4300, training accuracy 1\nstep 4400, training accuracy 1\nstep 4500, training accuracy 0.98\nstep 4600, training accuracy 0.96\nstep 4700, training accuracy 0.98\nstep 4800, training accuracy 0.98\nstep 4900, training accuracy 0.94\nstep 5000, training accuracy 0.96\nstep 5100, training accuracy 0.98\nstep 5200, training accuracy 1\nstep 5300, training accuracy 1\nstep 5400, training accuracy 1\nstep 5500, training accuracy 1\nstep 5600, training accuracy 0.94\nstep 5700, training accuracy 0.98\nstep 5800, training accuracy 1\nstep 5900, training accuracy 0.98\nstep 6000, training accuracy 1\nstep 6100, training accuracy 0.98\nstep 6200, training accuracy 0.98\nstep 6300, training accuracy 0.96\nstep 6400, training accuracy 0.96\nstep 6500, training accuracy 0.98\nstep 6600, training accuracy 0.98\nstep 6700, training accuracy 0.98\nstep 6800, training accuracy 0.98\nstep 6900, training accuracy 1\nstep 7000, training accuracy 1\nstep 7100, training accuracy 0.96\nstep 7200, training accuracy 1\nstep 7300, training accuracy 0.98\nstep 7400, training accuracy 1\nstep 7500, training accuracy 1\nstep 7600, training accuracy 1\nstep 7700, training accuracy 0.98\nstep 7800, training accuracy 1\nstep 7900, training accuracy 1\nstep 8000, training accuracy 1\nstep 8100, training accuracy 0.98\nstep 8200, training accuracy 1\nstep 8300, training accuracy 0.98\nstep 8400, training accuracy 0.96\nstep 8500, training accuracy 1\nstep 8600, training accuracy 1\nstep 8700, training accuracy 1\nstep 8800, training accuracy 1\nstep 8900, training accuracy 1\nstep 9000, training accuracy 1\nstep 9100, training accuracy 0.98\nstep 9200, training accuracy 0.98\nstep 9300, training accuracy 0.98\nstep 9400, training accuracy 1\nstep 9500, training accuracy 1\nstep 9600, training accuracy 0.98\nstep 9700, training accuracy 1\nstep 9800, training accuracy 1\nstep 9900, training accuracy 1\nstep 10000, training accuracy 1\nstep 10100, training accuracy 0.98\nstep 10200, training accuracy 1\nstep 10300, training accuracy 1\nstep 10400, training accuracy 1\nstep 10500, training accuracy 1\nstep 10600, training accuracy 1\nstep 10700, training accuracy 1\nstep 10800, training accuracy 1\nstep 10900, training accuracy 0.98\nstep 11000, training accuracy 1\nstep 11100, training accuracy 1\nstep 11200, training accuracy 1\nstep 11300, training accuracy 1\nstep 11400, training accuracy 1\nstep 11500, training accuracy 1\nstep 11600, training accuracy 1\nstep 11700, training accuracy 1\nstep 11800, training accuracy 1\nstep 11900, training accuracy 1\nstep 12000, training accuracy 1\nstep 12100, training accuracy 1\nstep 12200, training accuracy 1\nstep 12300, training accuracy 1\nstep 12400, training accuracy 1\nstep 12500, training accuracy 1\nstep 12600, training accuracy 1\nstep 12700, training accuracy 1\nstep 12800, training accuracy 1\nstep 12900, training accuracy 1\nstep 13000, training accuracy 1\nstep 13100, training accuracy 1\nstep 13200, training accuracy 1\nstep 13300, training accuracy 1\nstep 13400, training accuracy 1\nstep 13500, training accuracy 1\nstep 13600, training accuracy 0.98\nstep 13700, training accuracy 1\nstep 13800, training accuracy 1\nstep 13900, training accuracy 1\nstep 14000, training accuracy 1\nstep 14100, training accuracy 1\nstep 14200, training accuracy 1\nstep 14300, training accuracy 1\nstep 14400, training accuracy 1\nstep 14500, training accuracy 1\nstep 14600, training accuracy 1\nstep 14700, training accuracy 1\nstep 14800, training accuracy 1\nstep 14900, training accuracy 0.98\nstep 15000, training accuracy 1\nstep 15100, training accuracy 1\nstep 15200, training accuracy 0.98\nstep 15300, training accuracy 1\nstep 15400, training accuracy 1\nstep 15500, training accuracy 1\nstep 15600, training accuracy 1\nstep 15700, training accuracy 1\nstep 15800, training accuracy 1\nstep 15900, training accuracy 1\nstep 16000, training accuracy 1\nstep 16100, training accuracy 1\nstep 16200, training accuracy 1\nstep 16300, training accuracy 1\nstep 16400, training accuracy 1\nstep 16500, training accuracy 1\nstep 16600, training accuracy 1\nstep 16700, training accuracy 1\nstep 16800, training accuracy 0.98\nstep 16900, training accuracy 1\nstep 17000, training accuracy 1\nstep 17100, training accuracy 1\nstep 17200, training accuracy 1\nstep 17300, training accuracy 1\nstep 17400, training accuracy 1\nstep 17500, training accuracy 1\nstep 17600, training accuracy 1\nstep 17700, training accuracy 1\nstep 17800, training accuracy 1\nstep 17900, training accuracy 1\nstep 18000, training accuracy 1\nstep 18100, training accuracy 1\nstep 18200, training accuracy 1\nstep 18300, training accuracy 1\nstep 18400, training accuracy 1\nstep 18500, training accuracy 1\nstep 18600, training accuracy 1\nstep 18700, training accuracy 1\nstep 18800, training accuracy 1\nstep 18900, training accuracy 1\nstep 19000, training accuracy 1\nstep 19100, training accuracy 1\nstep 19200, training accuracy 1\nstep 19300, training accuracy 1\nstep 19400, training accuracy 1\nstep 19500, training accuracy 1\nstep 19600, training accuracy 1\nstep 19700, training accuracy 1\nstep 19800, training accuracy 1\nstep 19900, training accuracy 1\ntest accuracy 0.9926\n"
                }
            ]
        }, 
        {
            "execution_count": null, 
            "source": "", 
            "metadata": {
                "collapsed": true
            }, 
            "cell_type": "code", 
            "outputs": []
        }
    ], 
    "nbformat": 4
}