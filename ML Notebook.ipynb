{
 "cells": [
  {
   "cell_type": "markdown",
   "metadata": {},
   "source": [
    "## Imports"
   ]
  },
  {
   "cell_type": "code",
   "execution_count": 5,
   "metadata": {
    "collapsed": false
   },
   "outputs": [],
   "source": [
    "import warnings\n",
    "warnings.filterwarnings(\"ignore\", category=DeprecationWarning)\n",
    "import numpy as np\n",
    "import pandas as pd\n",
    "import graphviz\n",
    "from sklearn import *"
   ]
  },
  {
   "cell_type": "markdown",
   "metadata": {},
   "source": [
    "## Read in data"
   ]
  },
  {
   "cell_type": "code",
   "execution_count": 6,
   "metadata": {
    "collapsed": false
   },
   "outputs": [
    {
     "name": "stdout",
     "output_type": "stream",
     "text": [
      "1         int64\n",
      "2         int64\n",
      "3         int64\n",
      "4         int64\n",
      "5         int64\n",
      "6         int64\n",
      "7         int64\n",
      "8         int64\n",
      "9         int64\n",
      "10        int64\n",
      "11        int64\n",
      "12        int64\n",
      "13        int64\n",
      "14        int64\n",
      "15        int64\n",
      "16        int64\n",
      "target    int64\n",
      "dtype: object\n",
      "   1   2  3  4  5   6   7  8  9  10  11  12  13  14  15  16  target\n",
      "0  2   8  3  5  1   8  13  0  6   6  10   8   0   8   0   8      19\n",
      "1  5  12  3  7  2  10   5  5  4  13   3   9   2   8   4  10       8\n",
      "2  4  11  6  8  6  10   6  2  6  10   3   7   3   7   3   9       3\n",
      "3  7  11  6  6  3   5   9  4  6   4   4  10   6  10   2   8      13\n",
      "4  2   1  3  1  1   8   6  6  6   6   5   9   1   7   5  10       6\n"
     ]
    }
   ],
   "source": [
    "df = pd.read_csv('letter-recognition.data', header=None)\n",
    "df['target'] = df[0].apply(lambda x: ord(x) - ord('A'))\n",
    "del df[0]\n",
    "print df.dtypes\n",
    "print df.head()"
   ]
  },
  {
   "cell_type": "code",
   "execution_count": 22,
   "metadata": {
    "collapsed": false
   },
   "outputs": [
    {
     "name": "stdout",
     "output_type": "stream",
     "text": [
      "(14000L, 16L)\n",
      "(14000L, 1L)\n",
      "(6000L, 16L)\n"
     ]
    }
   ],
   "source": [
    "data = df.values\n",
    "np.random.shuffle(data)\n",
    "\n",
    "def split_data(data, pct_train=None, x_cols=[0], y_cols=[1], shuffle_data=False):\n",
    "    if shuffle_data:\n",
    "        np.random.shuffle(data)\n",
    "    \n",
    "    x = data[:, x_cols]\n",
    "    y = data[:, y_cols]\n",
    "    \n",
    "    train_x, train_y, test_x, test_y = None, None, None, None\n",
    "    if pct_train != None:\n",
    "        r, c = data.shape\n",
    "        train_rows = int(pct_train * r)\n",
    "        train_x = x[:train_rows, :]\n",
    "        train_y = y[:train_rows, :]\n",
    "        test_x = x[train_rows:, :]\n",
    "        test_y = y[train_rows:, :]\n",
    "    \n",
    "    return x, y, train_x, train_y, test_x, test_y\n",
    "\n",
    "training_pct = 0.7\n",
    "x, y, train_x, train_y, test_x, test_y = split_data(data, pct_train = training_pct, \n",
    "                                x_cols = range(16), y_cols = [16], shuffle_data = True)\n",
    "print train_x.shape\n",
    "print train_y.shape\n",
    "print test_x.shape"
   ]
  },
  {
   "cell_type": "markdown",
   "metadata": {},
   "source": [
    "## Decision Trees"
   ]
  },
  {
   "cell_type": "code",
   "execution_count": 25,
   "metadata": {
    "collapsed": false,
    "scrolled": false
   },
   "outputs": [
    {
     "name": "stdout",
     "output_type": "stream",
     "text": [
      "[ 0.85290451  0.86744883  0.86031984  0.85725019  0.84653962]\n"
     ]
    }
   ],
   "source": [
    "clf = tree.DecisionTreeClassifier(min_samples_leaf=3)\n",
    "clf = clf.fit(train_x, train_y)\n",
    "y2 = np.reshape(y, -1)\n",
    "scores = model_selection.cross_val_score(clf, x, y2, cv=5)\n",
    "print scores"
   ]
  },
  {
   "cell_type": "code",
   "execution_count": 34,
   "metadata": {
    "collapsed": false,
    "scrolled": true
   },
   "outputs": [
    {
     "data": {
      "text/plain": [
       "GridSearchCV(cv=5, error_score='raise',\n",
       "       estimator=DecisionTreeClassifier(class_weight=None, criterion='gini', max_depth=None,\n",
       "            max_features=None, max_leaf_nodes=None,\n",
       "            min_impurity_split=1e-07, min_samples_leaf=1,\n",
       "            min_samples_split=2, min_weight_fraction_leaf=0.0,\n",
       "            presort=False, random_state=None, splitter='best'),\n",
       "       fit_params={}, iid=True, n_jobs=1,\n",
       "       param_grid={'criterion': ('gini', 'entropy'), 'min_samples_leaf': [1, 3, 5]},\n",
       "       pre_dispatch='2*n_jobs', refit=True, return_train_score=True,\n",
       "       scoring=None, verbose=0)"
      ]
     },
     "execution_count": 34,
     "metadata": {},
     "output_type": "execute_result"
    }
   ],
   "source": [
    "dt = tree.DecisionTreeClassifier()\n",
    "parameters = {'criterion': ('gini', 'entropy'), 'min_samples_leaf':[1, 3, 5]}\n",
    "clf = model_selection.GridSearchCV(dt, parameters, cv=5)\n",
    "clf.fit(x, y2)"
   ]
  },
  {
   "cell_type": "code",
   "execution_count": 35,
   "metadata": {
    "collapsed": false
   },
   "outputs": [
    {
     "name": "stdout",
     "output_type": "stream",
     "text": [
      "   mean_fit_time  mean_score_time  mean_test_score  mean_train_score  \\\n",
      "0         0.0882           0.0016          0.87250          1.000000   \n",
      "1         0.0872           0.0014          0.85645          0.939862   \n",
      "2         0.0838           0.0020          0.84005          0.907512   \n",
      "3         0.0964           0.0014          0.88090          1.000000   \n",
      "4         0.0910           0.0018          0.86115          0.945126   \n",
      "5         0.0786           0.0012          0.84800          0.912525   \n",
      "\n",
      "  param_criterion param_min_samples_leaf  \\\n",
      "0            gini                      1   \n",
      "1            gini                      3   \n",
      "2            gini                      5   \n",
      "3         entropy                      1   \n",
      "4         entropy                      3   \n",
      "5         entropy                      5   \n",
      "\n",
      "                                              params  rank_test_score  \\\n",
      "0    {u'criterion': u'gini', u'min_samples_leaf': 1}                2   \n",
      "1    {u'criterion': u'gini', u'min_samples_leaf': 3}                4   \n",
      "2    {u'criterion': u'gini', u'min_samples_leaf': 5}                6   \n",
      "3  {u'criterion': u'entropy', u'min_samples_leaf'...                1   \n",
      "4  {u'criterion': u'entropy', u'min_samples_leaf'...                3   \n",
      "5  {u'criterion': u'entropy', u'min_samples_leaf'...                5   \n",
      "\n",
      "   split0_test_score  split0_train_score       ...         split2_test_score  \\\n",
      "0           0.869110            1.000000       ...                  0.873813   \n",
      "1           0.854899            0.940334       ...                  0.860570   \n",
      "2           0.836450            0.906373       ...                  0.850075   \n",
      "3           0.878335            1.000000       ...                  0.875562   \n",
      "4           0.860883            0.946588       ...                  0.854073   \n",
      "5           0.842184            0.911439       ...                  0.851074   \n",
      "\n",
      "   split2_train_score  split3_test_score  split3_train_score  \\\n",
      "0            1.000000           0.877035            1.000000   \n",
      "1            0.939117           0.860506            0.940588   \n",
      "2            0.908739           0.841222            0.909665   \n",
      "3            1.000000           0.887052            1.000000   \n",
      "4            0.946556           0.864012            0.943087   \n",
      "5            0.912927           0.853494            0.912038   \n",
      "\n",
      "   split4_test_score  split4_train_score  std_fit_time  std_score_time  \\\n",
      "0           0.860582            1.000000      0.004166    4.899014e-04   \n",
      "1           0.842277            0.940607      0.010284    4.899403e-04   \n",
      "2           0.826479            0.906695      0.005980    9.536743e-08   \n",
      "3           0.880391            1.000000      0.003555    4.899208e-04   \n",
      "4           0.863591            0.943105      0.007616    3.998995e-04   \n",
      "5           0.843531            0.912815      0.002800    4.000425e-04   \n",
      "\n",
      "   std_test_score  std_train_score  \n",
      "0        0.007272         0.000000  \n",
      "1        0.007648         0.000812  \n",
      "2        0.008170         0.001423  \n",
      "3        0.003958         0.000000  \n",
      "4        0.003702         0.001660  \n",
      "5        0.004391         0.000698  \n",
      "\n",
      "[6 rows x 22 columns]\n"
     ]
    }
   ],
   "source": [
    "print pd.DataFrame(clf.cv_results_)"
   ]
  },
  {
   "cell_type": "markdown",
   "metadata": {},
   "source": [
    "## kNN"
   ]
  },
  {
   "cell_type": "code",
   "execution_count": 38,
   "metadata": {
    "collapsed": false
   },
   "outputs": [
    {
     "name": "stdout",
     "output_type": "stream",
     "text": [
      "   mean_fit_time  mean_score_time  mean_test_score  mean_train_score  \\\n",
      "0         0.0560           0.5444          0.95700          1.000000   \n",
      "1         0.0492           0.5142          0.95700          1.000000   \n",
      "2         0.0500           0.7322          0.95370          0.981600   \n",
      "3         0.0490           0.7056          0.95855          1.000000   \n",
      "4         0.0482           0.8616          0.95125          0.975087   \n",
      "5         0.0504           0.9112          0.95670          1.000000   \n",
      "6         0.0484           1.0814          0.94350          0.963350   \n",
      "7         0.0506           1.0838          0.95280          1.000000   \n",
      "\n",
      "  param_n_neighbors param_weights  \\\n",
      "0                 1       uniform   \n",
      "1                 1      distance   \n",
      "2                 3       uniform   \n",
      "3                 3      distance   \n",
      "4                 5       uniform   \n",
      "5                 5      distance   \n",
      "6                10       uniform   \n",
      "7                10      distance   \n",
      "\n",
      "                                          params  rank_test_score  \\\n",
      "0    {u'n_neighbors': 1, u'weights': u'uniform'}                2   \n",
      "1   {u'n_neighbors': 1, u'weights': u'distance'}                2   \n",
      "2    {u'n_neighbors': 3, u'weights': u'uniform'}                5   \n",
      "3   {u'n_neighbors': 3, u'weights': u'distance'}                1   \n",
      "4    {u'n_neighbors': 5, u'weights': u'uniform'}                7   \n",
      "5   {u'n_neighbors': 5, u'weights': u'distance'}                4   \n",
      "6   {u'n_neighbors': 10, u'weights': u'uniform'}                8   \n",
      "7  {u'n_neighbors': 10, u'weights': u'distance'}                6   \n",
      "\n",
      "   split0_test_score  split0_train_score       ...         split2_test_score  \\\n",
      "0           0.959362            1.000000       ...                  0.956272   \n",
      "1           0.959362            1.000000       ...                  0.956272   \n",
      "2           0.958364            0.981237       ...                  0.951774   \n",
      "3           0.962603            1.000000       ...                  0.956522   \n",
      "4           0.953378            0.972856       ...                  0.950525   \n",
      "5           0.961356            1.000000       ...                  0.954773   \n",
      "6           0.946397            0.963412       ...                  0.940530   \n",
      "7           0.954874            1.000000       ...                  0.949775   \n",
      "\n",
      "   split2_train_score  split3_test_score  split3_train_score  \\\n",
      "0            1.000000           0.958427            1.000000   \n",
      "1            1.000000           0.958427            1.000000   \n",
      "2            0.981310           0.955923            0.981071   \n",
      "3            1.000000           0.958427            1.000000   \n",
      "4            0.975872           0.954420            0.974948   \n",
      "5            1.000000           0.959179            1.000000   \n",
      "6            0.964121           0.945905            0.963016   \n",
      "7            1.000000           0.955672            1.000000   \n",
      "\n",
      "   split4_test_score  split4_train_score  std_fit_time  std_score_time  \\\n",
      "0           0.953862            1.000000      0.003899        0.112140   \n",
      "1           0.953862            1.000000      0.001166        0.012432   \n",
      "2           0.948345            0.982138      0.003286        0.041301   \n",
      "3           0.954865            1.000000      0.001897        0.046500   \n",
      "4           0.945336            0.975768      0.001166        0.017083   \n",
      "5           0.949850            1.000000      0.004317        0.101065   \n",
      "6           0.938566            0.963215      0.001020        0.006406   \n",
      "7           0.948847            1.000000      0.002417        0.022194   \n",
      "\n",
      "   std_test_score  std_train_score  \n",
      "0        0.001896         0.000000  \n",
      "1        0.001896         0.000000  \n",
      "2        0.003441         0.000490  \n",
      "3        0.002729         0.000000  \n",
      "4        0.003216         0.001174  \n",
      "5        0.004024         0.000000  \n",
      "6        0.003285         0.000415  \n",
      "7        0.002876         0.000000  \n",
      "\n",
      "[8 rows x 22 columns]\n"
     ]
    }
   ],
   "source": [
    "nbrs = neighbors.KNeighborsClassifier()\n",
    "parameters = {'n_neighbors':[1, 3, 5, 10], 'weights': ('uniform', 'distance')}\n",
    "clf = model_selection.GridSearchCV(nbrs, parameters, cv=5)\n",
    "clf.fit(x, y2)\n",
    "print pd.DataFrame(clf.cv_results_)"
   ]
  },
  {
   "cell_type": "markdown",
   "metadata": {},
   "source": [
    "## Neural Nets"
   ]
  },
  {
   "cell_type": "code",
   "execution_count": 43,
   "metadata": {
    "collapsed": false
   },
   "outputs": [
    {
     "name": "stderr",
     "output_type": "stream",
     "text": [
      "C:\\Users\\luco\\AppData\\Local\\Continuum\\Anaconda2\\lib\\site-packages\\sklearn\\neural_network\\multilayer_perceptron.py:563: ConvergenceWarning: Stochastic Optimizer: Maximum iterations reached and the optimization hasn't converged yet.\n",
      "  % (), ConvergenceWarning)\n"
     ]
    },
    {
     "name": "stdout",
     "output_type": "stream",
     "text": [
      "    mean_fit_time  mean_score_time  mean_test_score  mean_train_score  \\\n",
      "0         11.8966           0.0050          0.79815          0.802885   \n",
      "1         11.6328           0.0052          0.82345          0.832587   \n",
      "2          9.3652           0.0054          0.86120          0.877038   \n",
      "3          5.9214           0.0060          0.83015          0.838488   \n",
      "4         16.4478           0.0088          0.81390          0.822639   \n",
      "5         17.1304           0.0086          0.84970          0.860878   \n",
      "6         13.3910           0.0084          0.90930          0.930335   \n",
      "7          7.2850           0.0080          0.90600          0.928121   \n",
      "8         19.2984           0.0104          0.82020          0.828837   \n",
      "9         19.8214           0.0098          0.87025          0.881664   \n",
      "10        15.2298           0.0104          0.91990          0.938949   \n",
      "11        11.1204           0.0104          0.92770          0.952868   \n",
      "12        21.7312           0.0102          0.84520          0.855989   \n",
      "13        20.9396           0.0114          0.89190          0.904854   \n",
      "14        14.6962           0.0110          0.93085          0.954766   \n",
      "15         9.0662           0.0108          0.88805          0.910490   \n",
      "\n",
      "   param_hidden_layer_sizes param_learning_rate_init  \\\n",
      "0                        50                   0.0005   \n",
      "1                        50                    0.001   \n",
      "2                        50                    0.005   \n",
      "3                        50                     0.01   \n",
      "4                       100                   0.0005   \n",
      "5                       100                    0.001   \n",
      "6                       100                    0.005   \n",
      "7                       100                     0.01   \n",
      "8                       150                   0.0005   \n",
      "9                       150                    0.001   \n",
      "10                      150                    0.005   \n",
      "11                      150                     0.01   \n",
      "12                (100, 50)                   0.0005   \n",
      "13                (100, 50)                    0.001   \n",
      "14                (100, 50)                    0.005   \n",
      "15                (100, 50)                     0.01   \n",
      "\n",
      "                                               params  rank_test_score  \\\n",
      "0   {u'learning_rate_init': 0.0005, u'hidden_layer...               16   \n",
      "1   {u'learning_rate_init': 0.001, u'hidden_layer_...               13   \n",
      "2   {u'learning_rate_init': 0.005, u'hidden_layer_...                9   \n",
      "3   {u'learning_rate_init': 0.01, u'hidden_layer_s...               12   \n",
      "4   {u'learning_rate_init': 0.0005, u'hidden_layer...               15   \n",
      "5   {u'learning_rate_init': 0.001, u'hidden_layer_...               10   \n",
      "6   {u'learning_rate_init': 0.005, u'hidden_layer_...                4   \n",
      "7   {u'learning_rate_init': 0.01, u'hidden_layer_s...                5   \n",
      "8   {u'learning_rate_init': 0.0005, u'hidden_layer...               14   \n",
      "9   {u'learning_rate_init': 0.001, u'hidden_layer_...                8   \n",
      "10  {u'learning_rate_init': 0.005, u'hidden_layer_...                3   \n",
      "11  {u'learning_rate_init': 0.01, u'hidden_layer_s...                2   \n",
      "12  {u'learning_rate_init': 0.0005, u'hidden_layer...               11   \n",
      "13  {u'learning_rate_init': 0.001, u'hidden_layer_...                6   \n",
      "14  {u'learning_rate_init': 0.005, u'hidden_layer_...                1   \n",
      "15  {u'learning_rate_init': 0.01, u'hidden_layer_s...                7   \n",
      "\n",
      "    split0_test_score  split0_train_score       ...         split2_test_score  \\\n",
      "0            0.790576            0.799300       ...                  0.786607   \n",
      "1            0.830716            0.842955       ...                  0.803848   \n",
      "2            0.880080            0.895303       ...                  0.873563   \n",
      "3            0.864622            0.873538       ...                  0.875812   \n",
      "4            0.813513            0.827569       ...                  0.809345   \n",
      "5            0.857143            0.872975       ...                  0.832834   \n",
      "6            0.922463            0.949465       ...                  0.921789   \n",
      "7            0.920967            0.947089       ...                  0.899300   \n",
      "8            0.815258            0.826631       ...                  0.810095   \n",
      "9            0.873348            0.888423       ...                  0.859070   \n",
      "10           0.940912            0.961223       ...                  0.935032   \n",
      "11           0.927450            0.952030       ...                  0.936282   \n",
      "12           0.845176            0.857652       ...                  0.835082   \n",
      "13           0.901022            0.914629       ...                  0.890805   \n",
      "14           0.937422            0.964100       ...                  0.927536   \n",
      "15           0.933184            0.960035       ...                  0.930035   \n",
      "\n",
      "    split2_train_score  split3_test_score  split3_train_score  \\\n",
      "0             0.798350           0.813423            0.811083   \n",
      "1             0.821915           0.834961            0.830387   \n",
      "2             0.901363           0.831705            0.836009   \n",
      "3             0.895612           0.700977            0.695258   \n",
      "4             0.828916           0.818683            0.815143   \n",
      "5             0.854232           0.857501            0.857312   \n",
      "6             0.943868           0.907338            0.919660   \n",
      "7             0.924928           0.898072            0.912038   \n",
      "8             0.827603           0.833709            0.832198   \n",
      "9             0.879860           0.880791            0.884551   \n",
      "10            0.963808           0.895818            0.900668   \n",
      "11            0.974309           0.916854            0.929281   \n",
      "12            0.858420           0.847734            0.845942   \n",
      "13            0.911989           0.883296            0.890360   \n",
      "14            0.958057           0.926121            0.936903   \n",
      "15            0.964871           0.781618            0.778097   \n",
      "\n",
      "    split4_test_score  split4_train_score  std_fit_time  std_score_time  \\\n",
      "0            0.804915            0.806333      0.585084        0.000632   \n",
      "1            0.828485            0.840120      0.079303        0.000748   \n",
      "2            0.835757            0.849800      2.602678        0.000490   \n",
      "3            0.818706            0.825381      1.649098        0.001265   \n",
      "4            0.812437            0.821384      1.036960        0.003124   \n",
      "5            0.847292            0.856295      1.531767        0.000800   \n",
      "6            0.874624            0.894392      3.436365        0.001020   \n",
      "7            0.890171            0.909880      2.105425        0.000632   \n",
      "8            0.817202            0.826942      0.441267        0.000800   \n",
      "9            0.865848            0.875281      0.135771        0.000748   \n",
      "10           0.896439            0.916375      4.930593        0.001356   \n",
      "11           0.918756            0.942168      4.402448        0.001020   \n",
      "12           0.846289            0.855109      0.552676        0.000748   \n",
      "13           0.888415            0.900824      1.913482        0.000490   \n",
      "14           0.926028            0.952910      3.946452        0.001095   \n",
      "15           0.860582            0.887022      3.655185        0.000980   \n",
      "\n",
      "    std_test_score  std_train_score  \n",
      "0         0.009772         0.004998  \n",
      "1         0.011067         0.007851  \n",
      "2         0.022698         0.028319  \n",
      "3         0.068807         0.076544  \n",
      "4         0.003115         0.005050  \n",
      "5         0.009196         0.006804  \n",
      "6         0.018164         0.020735  \n",
      "7         0.012796         0.016157  \n",
      "8         0.008230         0.002244  \n",
      "9         0.007331         0.004475  \n",
      "10        0.019623         0.025602  \n",
      "11        0.008954         0.016239  \n",
      "12        0.005525         0.005605  \n",
      "13        0.006111         0.008664  \n",
      "14        0.005270         0.009704  \n",
      "15        0.060022         0.072371  \n",
      "\n",
      "[16 rows x 22 columns]\n"
     ]
    }
   ],
   "source": [
    "mlp = neural_network.MLPClassifier(solver='sgd', learning_rate='constant')\n",
    "parameters = {'hidden_layer_sizes':[(50), (100), (150), (100, 50)], 'learning_rate_init': [0.0005, 0.001, 0.005, 0.01]}\n",
    "clf = model_selection.GridSearchCV(mlp, parameters, cv=5)\n",
    "clf.fit(x, y2)\n",
    "print pd.DataFrame(clf.cv_results_)"
   ]
  },
  {
   "cell_type": "code",
   "execution_count": null,
   "metadata": {
    "collapsed": true
   },
   "outputs": [],
   "source": []
  }
 ],
 "metadata": {
  "kernelspec": {
   "display_name": "Python 2",
   "language": "python",
   "name": "python2"
  },
  "language_info": {
   "codemirror_mode": {
    "name": "ipython",
    "version": 2
   },
   "file_extension": ".py",
   "mimetype": "text/x-python",
   "name": "python",
   "nbconvert_exporter": "python",
   "pygments_lexer": "ipython2",
   "version": "2.7.13"
  }
 },
 "nbformat": 4,
 "nbformat_minor": 0
}
