{
 "cells": [
  {
   "cell_type": "markdown",
   "metadata": {},
   "source": [
    "## Imports"
   ]
  },
  {
   "cell_type": "code",
   "execution_count": 5,
   "metadata": {
    "collapsed": false
   },
   "outputs": [],
   "source": [
    "import warnings\n",
    "warnings.filterwarnings(\"ignore\", category=DeprecationWarning)\n",
    "import numpy as np\n",
    "import pandas as pd\n",
    "import graphviz\n",
    "from sklearn import *"
   ]
  },
  {
   "cell_type": "markdown",
   "metadata": {},
   "source": [
    "## Read in data"
   ]
  },
  {
   "cell_type": "code",
   "execution_count": 6,
   "metadata": {
    "collapsed": false
   },
   "outputs": [
    {
     "name": "stdout",
     "output_type": "stream",
     "text": [
      "1         int64\n",
      "2         int64\n",
      "3         int64\n",
      "4         int64\n",
      "5         int64\n",
      "6         int64\n",
      "7         int64\n",
      "8         int64\n",
      "9         int64\n",
      "10        int64\n",
      "11        int64\n",
      "12        int64\n",
      "13        int64\n",
      "14        int64\n",
      "15        int64\n",
      "16        int64\n",
      "target    int64\n",
      "dtype: object\n",
      "   1   2  3  4  5   6   7  8  9  10  11  12  13  14  15  16  target\n",
      "0  2   8  3  5  1   8  13  0  6   6  10   8   0   8   0   8      19\n",
      "1  5  12  3  7  2  10   5  5  4  13   3   9   2   8   4  10       8\n",
      "2  4  11  6  8  6  10   6  2  6  10   3   7   3   7   3   9       3\n",
      "3  7  11  6  6  3   5   9  4  6   4   4  10   6  10   2   8      13\n",
      "4  2   1  3  1  1   8   6  6  6   6   5   9   1   7   5  10       6\n"
     ]
    }
   ],
   "source": [
    "df = pd.read_csv('letter-recognition.data', header=None)\n",
    "df['target'] = df[0].apply(lambda x: ord(x) - ord('A'))\n",
    "del df[0]\n",
    "print df.dtypes\n",
    "print df.head()"
   ]
  },
  {
   "cell_type": "code",
   "execution_count": 22,
   "metadata": {
    "collapsed": false
   },
   "outputs": [
    {
     "name": "stdout",
     "output_type": "stream",
     "text": [
      "(14000L, 16L)\n",
      "(14000L, 1L)\n",
      "(6000L, 16L)\n"
     ]
    }
   ],
   "source": [
    "data = df.values\n",
    "np.random.shuffle(data)\n",
    "\n",
    "def split_data(data, pct_train=None, x_cols=[0], y_cols=[1], shuffle_data=False):\n",
    "    if shuffle_data:\n",
    "        np.random.shuffle(data)\n",
    "    \n",
    "    x = data[:, x_cols]\n",
    "    y = data[:, y_cols]\n",
    "    \n",
    "    train_x, train_y, test_x, test_y = None, None, None, None\n",
    "    if pct_train != None:\n",
    "        r, c = data.shape\n",
    "        train_rows = int(pct_train * r)\n",
    "        train_x = x[:train_rows, :]\n",
    "        train_y = y[:train_rows, :]\n",
    "        test_x = x[train_rows:, :]\n",
    "        test_y = y[train_rows:, :]\n",
    "    \n",
    "    return x, y, train_x, train_y, test_x, test_y\n",
    "\n",
    "training_pct = 0.7\n",
    "x, y, train_x, train_y, test_x, test_y = split_data(data, pct_train = training_pct, \n",
    "                                x_cols = range(16), y_cols = [16], shuffle_data = True)\n",
    "print train_x.shape\n",
    "print train_y.shape\n",
    "print test_x.shape"
   ]
  },
  {
   "cell_type": "markdown",
   "metadata": {},
   "source": [
    "## Decision Trees"
   ]
  },
  {
   "cell_type": "code",
   "execution_count": 25,
   "metadata": {
    "collapsed": false,
    "scrolled": false
   },
   "outputs": [
    {
     "name": "stdout",
     "output_type": "stream",
     "text": [
      "[ 0.85290451  0.86744883  0.86031984  0.85725019  0.84653962]\n"
     ]
    }
   ],
   "source": [
    "clf = tree.DecisionTreeClassifier(min_samples_leaf=3)\n",
    "clf = clf.fit(train_x, train_y)\n",
    "y2 = np.reshape(y, -1)\n",
    "scores = model_selection.cross_val_score(clf, x, y2, cv=5)\n",
    "print scores"
   ]
  },
  {
   "cell_type": "code",
   "execution_count": 34,
   "metadata": {
    "collapsed": false,
    "scrolled": true
   },
   "outputs": [
    {
     "data": {
      "text/plain": [
       "GridSearchCV(cv=5, error_score='raise',\n",
       "       estimator=DecisionTreeClassifier(class_weight=None, criterion='gini', max_depth=None,\n",
       "            max_features=None, max_leaf_nodes=None,\n",
       "            min_impurity_split=1e-07, min_samples_leaf=1,\n",
       "            min_samples_split=2, min_weight_fraction_leaf=0.0,\n",
       "            presort=False, random_state=None, splitter='best'),\n",
       "       fit_params={}, iid=True, n_jobs=1,\n",
       "       param_grid={'criterion': ('gini', 'entropy'), 'min_samples_leaf': [1, 3, 5]},\n",
       "       pre_dispatch='2*n_jobs', refit=True, return_train_score=True,\n",
       "       scoring=None, verbose=0)"
      ]
     },
     "execution_count": 34,
     "metadata": {},
     "output_type": "execute_result"
    }
   ],
   "source": [
    "dt = tree.DecisionTreeClassifier()\n",
    "parameters = {'criterion': ('gini', 'entropy'), 'min_samples_leaf':[1, 3, 5]}\n",
    "clf = model_selection.GridSearchCV(dt, parameters, cv=5)\n",
    "clf.fit(x, y2)"
   ]
  },
  {
   "cell_type": "code",
   "execution_count": 35,
   "metadata": {
    "collapsed": false
   },
   "outputs": [
    {
     "name": "stdout",
     "output_type": "stream",
     "text": [
      "   mean_fit_time  mean_score_time  mean_test_score  mean_train_score  \\\n",
      "0         0.0882           0.0016          0.87250          1.000000   \n",
      "1         0.0872           0.0014          0.85645          0.939862   \n",
      "2         0.0838           0.0020          0.84005          0.907512   \n",
      "3         0.0964           0.0014          0.88090          1.000000   \n",
      "4         0.0910           0.0018          0.86115          0.945126   \n",
      "5         0.0786           0.0012          0.84800          0.912525   \n",
      "\n",
      "  param_criterion param_min_samples_leaf  \\\n",
      "0            gini                      1   \n",
      "1            gini                      3   \n",
      "2            gini                      5   \n",
      "3         entropy                      1   \n",
      "4         entropy                      3   \n",
      "5         entropy                      5   \n",
      "\n",
      "                                              params  rank_test_score  \\\n",
      "0    {u'criterion': u'gini', u'min_samples_leaf': 1}                2   \n",
      "1    {u'criterion': u'gini', u'min_samples_leaf': 3}                4   \n",
      "2    {u'criterion': u'gini', u'min_samples_leaf': 5}                6   \n",
      "3  {u'criterion': u'entropy', u'min_samples_leaf'...                1   \n",
      "4  {u'criterion': u'entropy', u'min_samples_leaf'...                3   \n",
      "5  {u'criterion': u'entropy', u'min_samples_leaf'...                5   \n",
      "\n",
      "   split0_test_score  split0_train_score       ...         split2_test_score  \\\n",
      "0           0.869110            1.000000       ...                  0.873813   \n",
      "1           0.854899            0.940334       ...                  0.860570   \n",
      "2           0.836450            0.906373       ...                  0.850075   \n",
      "3           0.878335            1.000000       ...                  0.875562   \n",
      "4           0.860883            0.946588       ...                  0.854073   \n",
      "5           0.842184            0.911439       ...                  0.851074   \n",
      "\n",
      "   split2_train_score  split3_test_score  split3_train_score  \\\n",
      "0            1.000000           0.877035            1.000000   \n",
      "1            0.939117           0.860506            0.940588   \n",
      "2            0.908739           0.841222            0.909665   \n",
      "3            1.000000           0.887052            1.000000   \n",
      "4            0.946556           0.864012            0.943087   \n",
      "5            0.912927           0.853494            0.912038   \n",
      "\n",
      "   split4_test_score  split4_train_score  std_fit_time  std_score_time  \\\n",
      "0           0.860582            1.000000      0.004166    4.899014e-04   \n",
      "1           0.842277            0.940607      0.010284    4.899403e-04   \n",
      "2           0.826479            0.906695      0.005980    9.536743e-08   \n",
      "3           0.880391            1.000000      0.003555    4.899208e-04   \n",
      "4           0.863591            0.943105      0.007616    3.998995e-04   \n",
      "5           0.843531            0.912815      0.002800    4.000425e-04   \n",
      "\n",
      "   std_test_score  std_train_score  \n",
      "0        0.007272         0.000000  \n",
      "1        0.007648         0.000812  \n",
      "2        0.008170         0.001423  \n",
      "3        0.003958         0.000000  \n",
      "4        0.003702         0.001660  \n",
      "5        0.004391         0.000698  \n",
      "\n",
      "[6 rows x 22 columns]\n"
     ]
    }
   ],
   "source": [
    "print pd.DataFrame(clf.cv_results_)"
   ]
  },
  {
   "cell_type": "markdown",
   "metadata": {},
   "source": [
    "## kNN"
   ]
  },
  {
   "cell_type": "code",
   "execution_count": null,
   "metadata": {
    "collapsed": true
   },
   "outputs": [],
   "source": [
    "nbrs = neighbors.KNeighborsClassifier()\n",
    "parameters = {'n_neighbors':[1, 3, 5, 10], 'weights': ('uniform', 'distance')}\n",
    "clf = model_selection.GridSearchCV(nbrs, parameters, cv=5)\n",
    "clf.fit(x, y2)\n",
    "print pd.DataFrame(clf.cv_results_)"
   ]
  },
  {
   "cell_type": "code",
   "execution_count": null,
   "metadata": {
    "collapsed": true
   },
   "outputs": [],
   "source": []
  }
 ],
 "metadata": {
  "kernelspec": {
   "display_name": "Python 2",
   "language": "python",
   "name": "python2"
  },
  "language_info": {
   "codemirror_mode": {
    "name": "ipython",
    "version": 2
   },
   "file_extension": ".py",
   "mimetype": "text/x-python",
   "name": "python",
   "nbconvert_exporter": "python",
   "pygments_lexer": "ipython2",
   "version": "2.7.13"
  }
 },
 "nbformat": 4,
 "nbformat_minor": 0
}
