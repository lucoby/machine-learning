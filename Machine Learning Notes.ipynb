{
 "cells": [
  {
   "cell_type": "markdown",
   "metadata": {},
   "source": [
    "# Machine Learning\n",
    "\n",
    "Branch of computer science that evolved from pattern recogntion and computational learning theory within artificial intelligence. Machine learning studies algorithms that can learn from and make decisions from data rather than following staticakky programmed instructions to make decisions.\n",
    "\n",
    "In the machine learning parlance:\n",
    "\n",
    "- *Input* is one or more variables that you are trying to use to determine an output\n",
    "- *Output* is one or more variables that you are trying to determine based on the input variables.\n",
    "- A machine learning *problem* is attempting to map a particular set of inputs to a particular output.\n",
    "- A *model* is a mathematical function that maps input-space to categorical outputs.\n",
    "\n",
    "At a high-level of machine learning problems:\n",
    "\n",
    "- Supervised learning: The example data that consists of both inputs and outputs.\n",
    "- Unsupervised learning: The example data consists only of inputs. The goal is to create some structure or understand the nature of what the output ought to be.\n",
    "- Reinforcement Learning: The example data consists of both inputs and outputs. Compare to SL, RL typically deals with temporal data so the output may only be an evaluation at the current point in time and may not be reflective of the overall outcome. In RL the feedback given is different from the \"output\" which is an action the agent needs to take.\n"
   ]
  },
  {
   "cell_type": "markdown",
   "metadata": {},
   "source": [
    "## Supervised Learning\n"
   ]
  },
  {
   "cell_type": "markdown",
   "metadata": {},
   "source": [
    "### Regression\n",
    "\n",
    "In the machine learning parlance:\n",
    "\n",
    "- *Inputs* are a set of variables\n",
    "- *Output* is a single variable that you are trying to determine based on the input variables.\n",
    "- A machine learning *problem* is attempting to map a particular set of inputs to a particular output.\n",
    "- *Regresssion* is a subset of problems where the *output* is continuous. This contrasts with *classification* where the *output* is categorical.\n",
    "- A *model* is a mathematical function that maps input-space to categorical outputs.\n",
    "\n",
    "More concretely, for the boston housing dataset, the input is variables such as number of rooms and the amount of crime in the neighborhood. The output is the median home value. Because housing price is continous, this is a regression problem. It can be very easy to re-frame this as a classification problem if the aim was to classify the neighborhood as cheap or expensive with a defined cut-off between cheap and expensive based on median home value."
   ]
  },
  {
   "cell_type": "markdown",
   "metadata": {},
   "source": [
    "### Classification\n",
    "\n",
    "Example of ML with iris dataset:\n",
    "\n",
    "More concretely, for the iris dataset, the input space is 4 dimensions: sepal length, sepal width, petal length, and petal width. The output is the one of 3 species of iris: setosa, versicolor, or virginica. Since the output is categorical this is a classfication problem. And to solve the problem we want to create a model that is a function that will map an arbitrary point in the 4-dimensional input space to to a label of the species of iris.\n",
    "\n",
    "While it's possible to manually come up with models or heuristics, the goal of machine learning is to have a computer use a \"learning\" algorithm that fits a model based on examples of input and out data. Different algorithms make various assumptions on how patterns in the input-space should influence the mapping to outputs. This notebook provides some example code on training a variety of models and doing a rudimentary comparison of metrics based on using different hyper-parameters to configure the algorithm. \n",
    "\n",
    "#### Classification consides???\n",
    "\n",
    "overfitting/underfitting\n",
    "\n",
    "accuracy - prcision/recall\n",
    "\n",
    "\n",
    "\n",
    "\n",
    "Todo: cover the assumptions, math, and steps that each algorithm uses to find the \"correct\" model and explain how these result in the differing fit time, score time, training accuracy, test accuracy, and potentially other metrics."
   ]
  },
  {
   "cell_type": "markdown",
   "metadata": {},
   "source": [
    "#### Logistic Regression\n",
    "\n",
    "The logistic function is based on the sigmoid function:\n",
    "\n",
    "$$\\sigma(t) = \\frac{e^t}{e^t+1} = \\frac{1}{1+e^{-t}}$$\n",
    "\n",
    "Key characteristics of the sigmoid function are:\n",
    "$$\\lim_{t\\to-\\inf} \\sigma(t) = 0$$\n",
    "$$\\sigma(0) = \\frac{1}{2}$$\n",
    "$$\\lim_{t\\to\\inf} \\sigma(t) = 1$$"
   ]
  },
  {
   "cell_type": "code",
   "execution_count": null,
   "metadata": {},
   "outputs": [],
   "source": []
  }
 ],
 "metadata": {
  "kernelspec": {
   "display_name": "Python 3",
   "language": "python",
   "name": "python3"
  },
  "language_info": {
   "codemirror_mode": {
    "name": "ipython",
    "version": 3
   },
   "file_extension": ".py",
   "mimetype": "text/x-python",
   "name": "python",
   "nbconvert_exporter": "python",
   "pygments_lexer": "ipython3",
   "version": "3.6.5"
  }
 },
 "nbformat": 4,
 "nbformat_minor": 2
}
