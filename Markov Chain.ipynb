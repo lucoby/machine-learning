{
 "cells": [
  {
   "cell_type": "code",
   "execution_count": 88,
   "metadata": {},
   "outputs": [],
   "source": [
    "import string, random\n",
    "import pprint"
   ]
  },
  {
   "cell_type": "code",
   "execution_count": 93,
   "metadata": {},
   "outputs": [],
   "source": [
    "class MarkovChain():\n",
    "    def __init__(self, keep_formatting=True):\n",
    "        self.model = {}\n",
    "        self.keep_formatting = keep_formatting\n",
    "    \n",
    "    def _add_to_model(self, prev, word):\n",
    "        if prev not in self.model:\n",
    "            self.model[prev] = {}\n",
    "        if word in self.model[prev]:\n",
    "            self.model[prev][word] += 1\n",
    "        else:\n",
    "            self.model[prev][word] = 1\n",
    "    \n",
    "    def train(self, data):\n",
    "        for sentence in data:\n",
    "            if not self.keep_formatting:\n",
    "                s_lower = sentence.lower()\n",
    "                s_nopunc = s_lower.translate(str.maketrans('', '', string.punctuation))\n",
    "                word_arr = s_nopunc.split()\n",
    "            else:\n",
    "                word_arr = sentence.split()\n",
    "            prev = '/start'\n",
    "            for word in word_arr:\n",
    "                self._add_to_model(prev, word)\n",
    "                prev = word\n",
    "            self._add_to_model(prev, '/end')\n",
    "            \n",
    "    def generate(self, k=10):\n",
    "        output_data = []\n",
    "        for i in range(k):\n",
    "            word_arr = []\n",
    "            word = '/start'\n",
    "            while True:\n",
    "                choices = []\n",
    "                weight = []\n",
    "                for k, v in self.model[word].items():\n",
    "                    choices.append(k)\n",
    "                    weight.append(v)\n",
    "                word = random.choices(choices, weights=weight)[0]\n",
    "                if word != '/end':\n",
    "                    word_arr.append(word)\n",
    "                else:\n",
    "                    break\n",
    "            sentence= ' '.join(word_arr)\n",
    "            output_data.append(sentence)\n",
    "        return output_data\n"
   ]
  },
  {
   "cell_type": "code",
   "execution_count": 95,
   "metadata": {},
   "outputs": [
    {
     "name": "stdout",
     "output_type": "stream",
     "text": [
      "{   '/start': {'Cat': 1, 'The': 3},\n",
      "    'Cat': {'is': 1},\n",
      "    'The': {'cat': 1, 'cat,': 1, 'dog': 1},\n",
      "    'big': {'/end': 2},\n",
      "    'big.': {'/end': 1},\n",
      "    'cat': {'is': 1},\n",
      "    'cat,': {'is': 1},\n",
      "    'dog': {'is': 1},\n",
      "    'is': {'big': 1, 'big.': 1, 'really': 1, 'small.': 1},\n",
      "    'really': {'big': 1},\n",
      "    'small.': {'/end': 1}}\n",
      "Cat is big.\n",
      "Cat is big.\n",
      "The cat, is big\n",
      "The dog is big.\n",
      "The dog is big.\n",
      "The cat is small.\n",
      "The dog is big.\n",
      "The dog is really big\n",
      "Cat is big\n",
      "The dog is big\n",
      "The dog is small.\n",
      "The dog is really big\n",
      "Cat is big.\n",
      "The cat, is small.\n",
      "The cat is really big\n",
      "The dog is big\n",
      "Cat is big.\n",
      "The cat is small.\n",
      "The cat is small.\n",
      "The dog is big.\n"
     ]
    },
    {
     "data": {
      "text/plain": [
       "[None,\n",
       " None,\n",
       " None,\n",
       " None,\n",
       " None,\n",
       " None,\n",
       " None,\n",
       " None,\n",
       " None,\n",
       " None,\n",
       " None,\n",
       " None,\n",
       " None,\n",
       " None,\n",
       " None,\n",
       " None,\n",
       " None,\n",
       " None,\n",
       " None,\n",
       " None]"
      ]
     },
     "execution_count": 95,
     "metadata": {},
     "output_type": "execute_result"
    }
   ],
   "source": [
    "pp = pprint.PrettyPrinter(indent=4)\n",
    "mc = MarkovChain()\n",
    "data = [\"The cat is big\",\n",
    "        \"The cat, is small.\",\n",
    "        \"The dog is big.\",\n",
    "        \"Cat is really big\"]\n",
    "mc.train(data)\n",
    "pp.pprint(mc.model)\n",
    "new_data = mc.generate(k=20)\n",
    "[print(x) for x in new_data]\n"
   ]
  },
  {
   "cell_type": "code",
   "execution_count": null,
   "metadata": {},
   "outputs": [],
   "source": []
  }
 ],
 "metadata": {
  "kernelspec": {
   "display_name": "Python [default]",
   "language": "python",
   "name": "python3"
  },
  "language_info": {
   "codemirror_mode": {
    "name": "ipython",
    "version": 3
   },
   "file_extension": ".py",
   "mimetype": "text/x-python",
   "name": "python",
   "nbconvert_exporter": "python",
   "pygments_lexer": "ipython3",
   "version": "3.6.6"
  }
 },
 "nbformat": 4,
 "nbformat_minor": 2
}
