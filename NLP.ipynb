{
 "cells": [
  {
   "cell_type": "markdown",
   "metadata": {},
   "source": [
    "# NLP on Curriculum Data\n",
    "\n",
    "\n",
    "## Reading in data set"
   ]
  },
  {
   "cell_type": "code",
   "execution_count": 18,
   "metadata": {},
   "outputs": [
    {
     "name": "stderr",
     "output_type": "stream",
     "text": [
      "C:\\Users\\CobyLU\\Anaconda3\\envs\\spacy\\lib\\site-packages\\gensim\\utils.py:1209: UserWarning: detected Windows; aliasing chunkize to chunkize_serial\n",
      "  warnings.warn(\"detected Windows; aliasing chunkize to chunkize_serial\")\n"
     ]
    }
   ],
   "source": [
    "%matplotlib inline\n",
    "import matplotlib.pyplot as plt\n",
    "import pprint\n",
    "import random\n",
    "import numpy as np\n",
    "import pandas as pd\n",
    "from sklearn.feature_extraction.text import TfidfVectorizer\n",
    "from sklearn.feature_extraction.text import CountVectorizer\n",
    "from sklearn.decomposition import NMF, LatentDirichletAllocation\n",
    "from sklearn.metrics import pairwise\n",
    "from sklearn.cluster import KMeans, SpectralClustering\n",
    "from scipy import sparse\n",
    "import spacy\n",
    "from wordcloud import WordCloud\n",
    "\n",
    "from gensim.models.coherencemodel import CoherenceModel\n",
    "from gensim.models.ldamodel import LdaModel\n",
    "from gensim.corpora.dictionary import Dictionary\n",
    "\n",
    "pp = pprint.PrettyPrinter(indent=4)\n",
    "nlp = spacy.load('en')"
   ]
  },
  {
   "cell_type": "code",
   "execution_count": 2,
   "metadata": {},
   "outputs": [
    {
     "data": {
      "text/html": [
       "<div>\n",
       "<style scoped>\n",
       "    .dataframe tbody tr th:only-of-type {\n",
       "        vertical-align: middle;\n",
       "    }\n",
       "\n",
       "    .dataframe tbody tr th {\n",
       "        vertical-align: top;\n",
       "    }\n",
       "\n",
       "    .dataframe thead th {\n",
       "        text-align: right;\n",
       "    }\n",
       "</style>\n",
       "<table border=\"1\" class=\"dataframe\">\n",
       "  <thead>\n",
       "    <tr style=\"text-align: right;\">\n",
       "      <th></th>\n",
       "      <th>Low Grade</th>\n",
       "      <th>High Grade</th>\n",
       "      <th>Subject</th>\n",
       "      <th>Course</th>\n",
       "      <th>Skill</th>\n",
       "    </tr>\n",
       "  </thead>\n",
       "  <tbody>\n",
       "    <tr>\n",
       "      <th>0</th>\n",
       "      <td>K</td>\n",
       "      <td>K</td>\n",
       "      <td>Mathematics</td>\n",
       "      <td>Mathematics - K</td>\n",
       "      <td>count to 100 by ones and tens</td>\n",
       "    </tr>\n",
       "    <tr>\n",
       "      <th>1</th>\n",
       "      <td>K</td>\n",
       "      <td>K</td>\n",
       "      <td>Mathematics</td>\n",
       "      <td>Mathematics - K</td>\n",
       "      <td>count forward by ones, beginning from a given ...</td>\n",
       "    </tr>\n",
       "    <tr>\n",
       "      <th>2</th>\n",
       "      <td>K</td>\n",
       "      <td>K</td>\n",
       "      <td>Mathematics</td>\n",
       "      <td>Mathematics - K</td>\n",
       "      <td>write numerals from 0 to 20 and represent a nu...</td>\n",
       "    </tr>\n",
       "    <tr>\n",
       "      <th>3</th>\n",
       "      <td>K</td>\n",
       "      <td>K</td>\n",
       "      <td>Mathematics</td>\n",
       "      <td>Mathematics - K</td>\n",
       "      <td>demonstrate the relationship between numbers a...</td>\n",
       "    </tr>\n",
       "    <tr>\n",
       "      <th>4</th>\n",
       "      <td>K</td>\n",
       "      <td>K</td>\n",
       "      <td>Mathematics</td>\n",
       "      <td>Mathematics - K</td>\n",
       "      <td>count objects by stating number names in the s...</td>\n",
       "    </tr>\n",
       "  </tbody>\n",
       "</table>\n",
       "</div>"
      ],
      "text/plain": [
       "  Low Grade High Grade      Subject           Course  \\\n",
       "0         K          K  Mathematics  Mathematics - K   \n",
       "1         K          K  Mathematics  Mathematics - K   \n",
       "2         K          K  Mathematics  Mathematics - K   \n",
       "3         K          K  Mathematics  Mathematics - K   \n",
       "4         K          K  Mathematics  Mathematics - K   \n",
       "\n",
       "                                               Skill  \n",
       "0                      count to 100 by ones and tens  \n",
       "1  count forward by ones, beginning from a given ...  \n",
       "2  write numerals from 0 to 20 and represent a nu...  \n",
       "3  demonstrate the relationship between numbers a...  \n",
       "4  count objects by stating number names in the s...  "
      ]
     },
     "execution_count": 2,
     "metadata": {},
     "output_type": "execute_result"
    }
   ],
   "source": [
    "math_skills = pd.read_excel('Skills.xlsx', sheet_name='MA')\n",
    "\n",
    "math_skills.head()"
   ]
  },
  {
   "cell_type": "code",
   "execution_count": 3,
   "metadata": {},
   "outputs": [
    {
     "name": "stdout",
     "output_type": "stream",
     "text": [
      "(1415, 5)\n"
     ]
    },
    {
     "data": {
      "text/plain": [
       "0                        count to 100 by ones and tens\n",
       "1    count forward by ones, beginning from a given ...\n",
       "2    write numerals from 0 to 20 and represent a nu...\n",
       "3    demonstrate the relationship between numbers a...\n",
       "4    count objects by stating number names in the s...\n",
       "Name: Skill, dtype: object"
      ]
     },
     "execution_count": 3,
     "metadata": {},
     "output_type": "execute_result"
    }
   ],
   "source": [
    "corpus = math_skills['Skill'].dropna()\n",
    "print(math_skills.shape)\n",
    "corpus.head()"
   ]
  },
  {
   "cell_type": "markdown",
   "metadata": {},
   "source": [
    "## Topic modeling"
   ]
  },
  {
   "cell_type": "code",
   "execution_count": 4,
   "metadata": {},
   "outputs": [],
   "source": [
    "n_samples = 1415\n",
    "n_features = 700\n",
    "n_components = 20\n",
    "n_top_words = 13\n",
    "\n",
    "\n",
    "def print_top_words(model, feature_names, n_top_words):\n",
    "    for topic_idx, topic in enumerate(model.components_):\n",
    "        message = \"Topic #%d: \" % topic_idx\n",
    "        message += \"; \".join([feature_names[i]\n",
    "                             for i in topic.argsort()[:-n_top_words - 1:-1]])\n",
    "        print(message)\n",
    "    print()\n",
    "\n",
    "def print_top_anchor_words(model, feature_names, n_top_words):\n",
    "    words = {}\n",
    "    for topic_idx, topic in enumerate(model.components_):\n",
    "        for i in topic.argsort()[:-n_top_words - 1:-1]:\n",
    "            if feature_names[i] in words:\n",
    "                words[feature_names[i]].append(topic_idx)\n",
    "            else:\n",
    "                words[feature_names[i]] = [topic_idx]\n",
    "    for topic_idx, topic in enumerate(model.components_):\n",
    "        message = \"Topic #%d: \" % topic_idx\n",
    "        message += \"; \".join([feature_names[i]\n",
    "                             for i in topic.argsort()[:-n_top_words - 1:-1]\n",
    "                             if words[feature_names[i]] == [topic_idx]])\n",
    "        print(message)\n",
    "    print()\n",
    "\n",
    "def create_topic_wordcloud(model, feature_names, n_top_words, topic_idx):\n",
    "    topic = model.components_[topic_idx]\n",
    "    words = [feature_names[i] for i in topic.argsort()[:-n_top_words - 1:-1]]\n",
    "    p = list(topic)\n",
    "    p.sort()\n",
    "    p =  p[:-n_top_words - 1:-1]\n",
    "    text = ' '.join(random.choices(words, weights=p, k=200))\n",
    "    # Generate a word cloud image\n",
    "    wordcloud = WordCloud(background_color='white', colormap=plt.get_cmap('GnBu')).generate(text)\n",
    "\n",
    "    # Display the generated image:\n",
    "    plt.imshow(wordcloud, interpolation='bilinear')\n",
    "    plt.axis(\"off\")"
   ]
  },
  {
   "cell_type": "code",
   "execution_count": 7,
   "metadata": {},
   "outputs": [],
   "source": [
    "tfidf_vectorizer = TfidfVectorizer(analyzer='word',\n",
    "                                   ngram_range=(1,2), \n",
    "                                   max_df=0.95, \n",
    "                                   min_df=2,\n",
    "                                   stop_words='english')\n",
    "tfidf = tfidf_vectorizer.fit_transform(corpus)\n",
    "\n",
    "feature_names = tfidf_vectorizer.get_feature_names() \n",
    "tf_vectorizer = CountVectorizer(ngram_range=(1,2), \n",
    "                                max_df=0.95, \n",
    "                                min_df=2,\n",
    "                                stop_words='english')\n",
    "tf = tf_vectorizer.fit_transform(corpus)"
   ]
  },
  {
   "cell_type": "code",
   "execution_count": 8,
   "metadata": {
    "scrolled": true
   },
   "outputs": [
    {
     "name": "stdout",
     "output_type": "stream",
     "text": [
      "\n",
      "Topics in NMF model (Frobenius norm):\n",
      "Topic #0: equations; linear; linear equations; solve; variables; inequalities; variable; solutions; equations variables; equations inequalities; systems; represent; create\n",
      "Topic #1: function; describes; domain; relationship; domain function; graph; relationship quantities; describes relationship; function describes; write function; rate change; change; function graph\n",
      "Topic #2: add; subtract; add subtract; operations; properties operations; strategies; multiply; properties; numbers; addition; subtract multiply; digit; subtraction\n",
      "Topic #3: mathematical ideas; ideas; mathematical; recognize use; use connections; connections; connections mathematical; use; explain mathematical; interconnect build; interconnect; produce coherent; build produce\n",
      "Topic #4: functions; exponential; inverse functions; inverse; trigonometric; trigonometric functions; functions showing; logarithmic; exponential functions; logarithmic functions; showing; graph; exponential logarithmic\n",
      "Topic #5: expression; reveal; equivalent; different; reveal explain; expression reveal; defined expression; equivalent forms; different equivalent; function defined; properties; function; defined\n",
      "Topic #6: distribution; data; data distribution; population; shape; center; mean; sample; sets; data sets; spread; interpret; interquartile\n",
      "Topic #7: problems; solve; solve problems; appropriate; apply; adapt variety; adapt; apply adapt; appropriate strategies; strategies solve; variety appropriate; variety; appropriate technology\n",
      "Topic #8: key; features; key features; quantities; function; models relationship; relationship; function models; relationship quantities; graphs; increasing; decreasing; increasing decreasing\n",
      "Topic #9: world; real world; world mathematical; real; mathematical problems; mathematical; solve real; problems; rational numbers; solve; rational; volume; numbers\n",
      "Topic #10: number; fraction; fractions; number line; line; represent; recognize; numbers; visual; visual fraction; fraction number; unit; line diagram\n",
      "Topic #11: terms; interpret; context; terms factors; factors; terms context; expressions; quantity terms; represent quantity; expressions represent; interpret expressions; parts expression; interpret parts\n",
      "Topic #12: mathematics; apply mathematics; outside mathematics; recognize apply; outside; mathematics contexts; contexts outside; contexts; recognize; arise mathematics; problems arise; consolidate; organize consolidate\n",
      "Topic #13: thinking; mathematical thinking; evaluate mathematical; mathematical; evaluate; thinking strategies; analyze evaluate; analyze; strategies; investigate; thinking coherently; teachers; peers\n",
      "Topic #14: graph; graph functions; features graph; graph hand; functions expressed; using technology; hand; expressed; technology; key features; key; features; algebraically key\n",
      "Topic #15: quadratic; solve quadratic; quadratic equations; equations variable; variable; solve; equations; square; solutions; completing square; completing; quadratic formula; formula\n",
      "Topic #16: proof; reasoning; methods proof; select use; use various; reasoning methods; types reasoning; various types; types; methods; select; various; aspects mathematics\n",
      "Topic #17: problem solving; solving; problem; mathematical; process mathematical; reflect process; reflect; monitor reflect; monitor; mathematical knowledge; build new; new mathematical; knowledge problem\n",
      "Topic #18: line; lines; parallel; angles; perpendicular; point; given; vector; parallel perpendicular; angle; segment; circle; parallel lines\n",
      "Topic #19: exponents; rational exponents; properties exponents; radicals; expressions involving; properties; involving radicals; radicals rational; rewrite expressions; exponents using; expressions; rational; using properties\n",
      "\n",
      "\n",
      "Topics in NMF model (generalized Kullback-Leibler divergence):\n",
      "Topic #0: solve; equations; linear; represent; using; problems; variables; variable; solutions; simple; linear equations; systems; use\n",
      "Topic #1: function; graph; functions; linear; table; change; given; exponential; rate; exponential functions; rate change; model; sequences\n",
      "Topic #2: numbers; subtract; number; add; using; multiply; add subtract; operations; 10; properties; strategies; subtraction; properties operations\n",
      "Topic #3: use; mathematical; explain; mathematical ideas; ideas; make; thinking; recognize; mathematical thinking; representations; communicate mathematical; recognize use; language\n",
      "Topic #4: functions; trigonometric; trigonometric functions; graph; apply; showing; inverse functions; end; logarithmic; exponential; including; inverse; behavior\n",
      "Topic #5: expression; properties; equivalent; reveal; function; forms; represented; expression reveal; different; quadratic; defined expression; reveal explain; write\n",
      "Topic #6: data; distribution; random; sample; population; use; interpret; numerical; distributions; sampling; variable; mean; shape\n",
      "Topic #7: problems; solve; solve problems; use; apply; appropriate; geometric; formulas; design; variety; translate; methods; problems arise\n",
      "Topic #8: quantities; relationship; technology; using; graphs; write; key; relationship quantities; function; graph; features; key features; tables\n",
      "Topic #9: world; real world; interpret; real; terms; world mathematical; context; mathematical; mathematical problems; solve real; represent; factors; expressions\n",
      "Topic #10: fraction; unit; fractions; recognize; rate; number; interpret; model; visual; represent; quantity; word; visual fraction\n",
      "Topic #11: given; point; line; determine; vector; terms; points; angle; lines; tangent; graph; prove; sequence\n",
      "Topic #12: number; line; number line; recognize; rational; numbers; mathematics; understand; rational numbers; contexts; rational number; domain; integers\n",
      "Topic #13: using; evaluate; objects; volume; sum; strategies; evaluate mathematical; integrals; number; length; compare; thinking strategies; lengths\n",
      "Topic #14: identify; plane; technology; using technology; use; coordinates; using; distance; values; use coordinates; simple; value; points\n",
      "Topic #15: square; use; quadratic; formula; solve quadratic; quadratic equations; unit; number; real; form; equation; derive; numbers\n",
      "Topic #16: vectors; calculate; problem; vector; solving; direction; recognize; problem solving; magnitude; reasoning; scalar; form; mathematical\n",
      "Topic #17: theorem; students; probability; given; types; various; value; pythagorean theorem; pythagorean; explain; students solve; using; model\n",
      "Topic #18: angles; triangles; dimensional; figures; shapes; circles; right; similarity; properties; rotations; understand; rotations reflections; recognize\n",
      "Topic #19: students; properties; determine; use; involving; using; exponents; series; students apply; expressions; understand; space; explain\n",
      "\n",
      "\n",
      "Topics in LDA model:\n",
      "Topic #0: congruence; terms rigid; congruence terms; motions; rigid motions; definition congruence; rigid; convergence; series; definition; criteria triangle; sss; sas sss\n",
      "Topic #1: expressions; dimensional; subtraction; represent; unknown; problem; addition subtraction; use; equations; makes; addition; mental; drawings\n",
      "Topic #2: function; key; features; key features; quantities; relationship; relationship quantities; increasing; decreasing; increasing decreasing; sketch; graphs; graph\n",
      "Topic #3: vectors; direction; component; component wise; wise; sum; scalar; magnitude; end; scalar multiplication; multiplication; length; graphically\n",
      "Topic #4: sample; population; understand; sampling; random; parameters; population parameters; observational; studies; randomization; statistic; inferences; frequency\n",
      "Topic #5: number; unit; complex; numbers; lengths; area; recognize; represent; number line; fraction; rectangular; line; volume\n",
      "Topic #6: dimensional; right; identify; objects; shapes; sections; dimensional figures; compose; dimensional objects; cross; figures; using; volume\n",
      "Topic #7: count; objects; 20; pennies; count objects; dimes; dollar; quarters; nickels; dimes quarters; coins; nickels dimes; pennies nickels\n",
      "Topic #8: mathematical; tables; mathematical thinking; thinking; compare; using; polynomial; produce; explain; values; y²; x² y²; x²\n",
      "Topic #9: function; given; functions; line; graph; use; terms; angles; number; linear; determine; numbers; circle\n",
      "Topic #10: use; model; probability; using; data; number; probabilities; fraction; interpret; plots; distributions; space; create\n",
      "Topic #11: event; probability; cos; sin; sin cos; indicates; cos tan; tan; probability near; near; likelihood; unlikely; near indicates\n",
      "Topic #12: units; use; proof; measurement; methods; rate; convert; metric; understand; reasoning; language; mathematical; ratio\n",
      "Topic #13: properties; using; numbers; add; subtract; 10; explain; multiply; add subtract; subtraction; rational; operations; addition\n",
      "Topic #14: functions; end; graph; showing; behavior; logarithmic; end behavior; exponential; exponential logarithmic; zeros; logarithmic functions; polynomial; functions showing\n",
      "Topic #15: shorter; compare; directly; using tools; tools; longer shorter; longer; objects; length; capacity; basis; difference; weight\n",
      "Topic #16: data; distribution; interpret; use; sample; sets; mean; data distribution; population; center; sampling; way; categorical\n",
      "Topic #17: 56; shares; partitioned; objects; interpret multiplication; 35; comparison; groups; interpret; partitioned equal; scaling; group; share\n",
      "Topic #18: probability; determine; number; develop; mathematical; evaluate; equation; values; true; given; understand; probabilities; conditional\n",
      "Topic #19: solve; equations; problems; use; using; linear; mathematical; represent; apply; solve problems; real; students; world\n",
      "\n"
     ]
    }
   ],
   "source": [
    "print(\"\\nTopics in NMF model (Frobenius norm):\")\n",
    "nmf_fn = NMF(n_components=n_components, random_state=1,\n",
    "          alpha=.1, l1_ratio=.5)\n",
    "nmf_fn_topics = nmf_fn.fit(tfidf)\n",
    "tfidf_feature_names = tfidf_vectorizer.get_feature_names()\n",
    "print_top_words(nmf_fn, tfidf_feature_names, n_top_words)\n",
    "\n",
    "print(\"\\nTopics in NMF model (generalized Kullback-Leibler divergence):\")\n",
    "nmf_kl = NMF(n_components=n_components, random_state=1,\n",
    "          beta_loss='kullback-leibler', solver='mu', max_iter=1000, alpha=.1,\n",
    "          l1_ratio=.5)\n",
    "nmf_kl_topics = nmf_kl.fit(tfidf)\n",
    "tfidf_feature_names = tfidf_vectorizer.get_feature_names()\n",
    "print_top_words(nmf_kl, tfidf_feature_names, n_top_words)\n",
    "\n",
    "print(\"\\nTopics in LDA model:\")\n",
    "lda = LatentDirichletAllocation(n_components=n_components, max_iter=10,\n",
    "                                learning_method='online',\n",
    "                                learning_offset=50.,\n",
    "                                random_state=0)\n",
    "lda_topics = lda.fit_transform(tf)\n",
    "tf_feature_names = tf_vectorizer.get_feature_names()\n",
    "print_top_words(lda, tf_feature_names, n_top_words)"
   ]
  },
  {
   "cell_type": "code",
   "execution_count": 9,
   "metadata": {},
   "outputs": [
    {
     "name": "stdout",
     "output_type": "stream",
     "text": [
      "Topic #0: linear; linear equations; variables; inequalities; equations variables; equations inequalities; systems; create\n",
      "Topic #1: describes; domain; domain function; describes relationship; function describes; write function; rate change; change; function graph\n",
      "Topic #2: add; subtract; add subtract; operations; properties operations; multiply; addition; subtract multiply; digit; subtraction\n",
      "Topic #3: mathematical ideas; ideas; recognize use; use connections; connections; connections mathematical; use; explain mathematical; interconnect build; interconnect; produce coherent; build produce\n",
      "Topic #4: functions; exponential; inverse functions; inverse; trigonometric; trigonometric functions; functions showing; logarithmic; exponential functions; logarithmic functions; showing; exponential logarithmic\n",
      "Topic #5: expression; reveal; equivalent; different; reveal explain; expression reveal; defined expression; equivalent forms; different equivalent; function defined; defined\n",
      "Topic #6: distribution; data; data distribution; population; shape; center; mean; sample; sets; data sets; spread; interquartile\n",
      "Topic #7: solve problems; appropriate; apply; adapt variety; adapt; apply adapt; appropriate strategies; strategies solve; variety appropriate; variety; appropriate technology\n",
      "Topic #8: quantities; models relationship; function models; graphs; increasing; decreasing; increasing decreasing\n",
      "Topic #9: world; real world; world mathematical; real; mathematical problems; solve real; rational numbers; volume\n",
      "Topic #10: number; fraction; fractions; number line; visual; visual fraction; fraction number; unit; line diagram\n",
      "Topic #11: terms; context; terms factors; factors; terms context; quantity terms; represent quantity; expressions represent; interpret expressions; parts expression; interpret parts\n",
      "Topic #12: mathematics; apply mathematics; outside mathematics; recognize apply; outside; mathematics contexts; contexts outside; contexts; arise mathematics; problems arise; consolidate; organize consolidate\n",
      "Topic #13: thinking; mathematical thinking; evaluate mathematical; evaluate; thinking strategies; analyze evaluate; analyze; investigate; thinking coherently; teachers; peers\n",
      "Topic #14: graph functions; features graph; graph hand; functions expressed; using technology; hand; expressed; technology; algebraically key\n",
      "Topic #15: quadratic; solve quadratic; quadratic equations; equations variable; square; completing square; completing; quadratic formula; formula\n",
      "Topic #16: proof; reasoning; methods proof; select use; use various; reasoning methods; types reasoning; various types; types; methods; select; various; aspects mathematics\n",
      "Topic #17: problem solving; solving; problem; process mathematical; reflect process; reflect; monitor reflect; monitor; mathematical knowledge; build new; new mathematical; knowledge problem\n",
      "Topic #18: lines; parallel; angles; perpendicular; point; given; vector; parallel perpendicular; angle; segment; circle; parallel lines\n",
      "Topic #19: exponents; rational exponents; properties exponents; radicals; expressions involving; involving radicals; radicals rational; rewrite expressions; exponents using; using properties\n",
      "\n"
     ]
    }
   ],
   "source": [
    "print_top_anchor_words(nmf_fn, tfidf_feature_names, n_top_words)"
   ]
  },
  {
   "cell_type": "code",
   "execution_count": 10,
   "metadata": {},
   "outputs": [
    {
     "data": {
      "image/png": "[encoded data removed]",
      "text/plain": [
       "<Figure size 432x288 with 1 Axes>"
      ]
     },
     "metadata": {},
     "output_type": "display_data"
    }
   ],
   "source": [
    "create_topic_wordcloud(nmf_fn, tfidf_feature_names, n_top_words, 2)"
   ]
  },
  {
   "cell_type": "markdown",
   "metadata": {},
   "source": [
    "## Document similarity with spaCy"
   ]
  },
  {
   "cell_type": "code",
   "execution_count": 11,
   "metadata": {},
   "outputs": [
    {
     "name": "stdout",
     "output_type": "stream",
     "text": [
      "0                (count, to, 100, by, ones, and, tens)\n",
      "1    (count, forward, by, ones, ,, beginning, from,...\n",
      "2    (write, numerals, from, 0, to, 20, and, repres...\n",
      "3    (demonstrate, the, relationship, between, numb...\n",
      "4    (count, objects, by, stating, number, names, i...\n",
      "Name: Skill, dtype: object\n"
     ]
    }
   ],
   "source": [
    "spacy_corpus = corpus.apply(nlp)\n",
    "print(spacy_corpus.head())"
   ]
  },
  {
   "cell_type": "code",
   "execution_count": 12,
   "metadata": {},
   "outputs": [],
   "source": [
    "spacy_similarity = np.zeros((len(spacy_corpus), len(spacy_corpus)))\n",
    "for (i, doc) in enumerate(spacy_corpus):\n",
    "    for (j, other_doc) in enumerate(spacy_corpus):\n",
    "        spacy_similarity[i, j] = doc.similarity(other_doc)"
   ]
  },
  {
   "cell_type": "code",
   "execution_count": 13,
   "metadata": {},
   "outputs": [],
   "source": [
    "def get_similar_phrases(pairwise_similarity, phrases, phrase_num):\n",
    "    phrase = phrases[phrase_num]\n",
    "    pairwise_phrase = (pairwise_similarity - np.eye(len(phrases)))[phrase_num].tolist()\n",
    "    phrase_scores = [pair for pair in zip(range(0, len(phrases)), phrases, pairwise_phrase) if pair[2] > 0]\n",
    "    phrase_scores = sorted(phrase_scores, key=lambda t: t[2] * -1)[:10]\n",
    "    return (phrase, phrase_scores)\n",
    "\n",
    "def get_least_similar_phrases(pairwise_similarity, phrases, phrase_num):\n",
    "    phrase = phrases[phrase_num]\n",
    "    pairwise_phrase = (pairwise_similarity - np.eye(len(phrases)))[phrase_num].tolist()\n",
    "    phrase_scores = [pair for pair in zip(range(0, len(phrases)), phrases, pairwise_phrase) if pair[2] > 0]\n",
    "    phrase_scores = sorted(phrase_scores, key=lambda t: t[2])[:10]\n",
    "    return (phrase, phrase_scores)"
   ]
  },
  {
   "cell_type": "code",
   "execution_count": 14,
   "metadata": {
    "scrolled": true
   },
   "outputs": [
    {
     "name": "stdout",
     "output_type": "stream",
     "text": [
      "phrase: compare two fractions with the same numerator or the same denominator by reasoning about their size; recognize that comparisons are valid only when the two fractions refer to the same whole and record the results of comparisons with the symbols >, =, or \n",
      "\n",
      "similar phrases:\n",
      "[   (   140,\n",
      "        'compare two decimals to hundredths by reasoning about their size. '\n",
      "        'Recognize that comparisons are valid only when the two decimals refer '\n",
      "        'to the same whole. Record the results of comparisons with the symbols '\n",
      "        '>, =, or \\n',\n",
      "        0.9352144176874354),\n",
      "    (   128,\n",
      "        'compare two fractions with different numerators and different '\n",
      "        'denominators (e.g., by using virtual fraction models, by creating '\n",
      "        'common denominators or numerators, or by comparing to a benchmark '\n",
      "        'fraction such as 1/2); recognize that comparisons are valid only when '\n",
      "        'the two fractions refer to the same whole; record the results of '\n",
      "        'comparisons with symbols >, =, or \\n',\n",
      "        0.9023421996338288),\n",
      "    (   97,\n",
      "        'recognize two fractions as equivalent (equal) if they are the same '\n",
      "        'size or the same point on a number line',\n",
      "        0.8995793434271195),\n",
      "    (   1021,\n",
      "        'construct and interpret two-way frequency tables of data when two '\n",
      "        'categories are associated with each object being classified. Use the '\n",
      "        'two-way table as a sample space to decide if events are independent '\n",
      "        'and to approximate conditional probabilities (e.g., collect data from '\n",
      "        'a random sample of students in your school on their favorite subject '\n",
      "        'among math, science, and English. Estimate the probability that a '\n",
      "        'randomly selected student from your school will favor science given '\n",
      "        'that the student is in tenth grade. Do the same for other subjects '\n",
      "        'and compare the results)\\n',\n",
      "        0.8954096489943012),\n",
      "    (   344,\n",
      "        'approximate the probability of a chance event by collecting data on '\n",
      "        'the chance process that produces it and observing its long-run '\n",
      "        'relative frequency. predict the approximate relative frequency given '\n",
      "        'the probability (e.g., when rolling a number cube 600 times, predict '\n",
      "        'that a 3 or 6 would be rolled roughly 200 times, but probably not '\n",
      "        'exactly 200 times)\\n',\n",
      "        0.8905498100509714),\n",
      "    (   392,\n",
      "        'approximate the probability of a chance event by collecting data on '\n",
      "        'the chance process that produces it and observing its long-run '\n",
      "        'relative frequency. predict the approximate relative frequency given '\n",
      "        'the probability (e.g., when rolling a number cube 600 times, predict '\n",
      "        'that a 3 or 6 would be rolled roughly 200 times, but probably not '\n",
      "        'exactly 200 times)\\n',\n",
      "        0.8905498100509714),\n",
      "    (   307,\n",
      "        'use numbers expressed in the form of a single digit times an integer '\n",
      "        'power of 10 to estimate very large or very small quantities, and to '\n",
      "        'express how many times as much one is than the other (e.g., estimate '\n",
      "        'the population of the United States as 3 x 108 and the population of '\n",
      "        'the world as 7 x 109, and determine that the world population is more '\n",
      "        'than 20 times larger)\\n',\n",
      "        0.8889342071189379),\n",
      "    (   333,\n",
      "        'understand that a two-dimensional figure is similar to another if the '\n",
      "        'second can be obtained from the first by a sequence of rotations, '\n",
      "        'reflections, translations, and dilations; given two similar '\n",
      "        'two-dimensional figures, describe a sequence that exhibits the '\n",
      "        'similarity between them\\n',\n",
      "        0.8874545362028002),\n",
      "    (   444,\n",
      "        'justify the steps of a simple one-solution equation using algebraic '\n",
      "        'properties and the properties of real numbers. Justify each step, or '\n",
      "        'if given two or more steps of an equation, explain the progression '\n",
      "        'from one step to the next using properties.',\n",
      "        0.8865945664806445),\n",
      "    (   756,\n",
      "        'justify the steps of a simple one-solution equation using algebraic '\n",
      "        'properties and the properties of real numbers. Justify each step, or '\n",
      "        'if given two or more steps of an equation, explain the progression '\n",
      "        'from one step to the next using properties.',\n",
      "        0.8865945664806445)]\n"
     ]
    }
   ],
   "source": [
    "(phrase, phrase_scores) = get_similar_phrases(spacy_similarity, corpus, 100)\n",
    "print(\"phrase: %s\\nsimilar phrases:\" % phrase)\n",
    "pp.pprint(phrase_scores)"
   ]
  },
  {
   "cell_type": "code",
   "execution_count": 15,
   "metadata": {},
   "outputs": [
    {
     "name": "stdout",
     "output_type": "stream",
     "text": [
      "phrase: compare two fractions with the same numerator or the same denominator by reasoning about their size; recognize that comparisons are valid only when the two fractions refer to the same whole and record the results of comparisons with the symbols >, =, or \n",
      "\n",
      "similar phrases:\n",
      "[   (   906,\n",
      "        \"apply Rolle's Theorem and the Mean Value Theorem\",\n",
      "        0.3044504107163661),\n",
      "    (   1241,\n",
      "        'Students will apply Divisibility Properties, the Division Algorithm, '\n",
      "        'and the Fundamental Theorem of Arithmetic.',\n",
      "        0.34255031079128695),\n",
      "    (   1247,\n",
      "        'Students will apply the Chinese Remainder Theorem.',\n",
      "        0.34350582511857153),\n",
      "    (   1245,\n",
      "        'Students will determine integral solutions to specified linear '\n",
      "        'Diophantine Equations.',\n",
      "        0.3670574904187923),\n",
      "    (731, 'integrate vectors', 0.3788867294439584),\n",
      "    (637, 'add and subtract vectors', 0.4000450198854213),\n",
      "    (1277, 'add and subtract vectors', 0.4000450198854213),\n",
      "    (   696,\n",
      "        'find least upper bounds and greatest lower bounds',\n",
      "        0.40634666838259403),\n",
      "    (   620,\n",
      "        'prove the Laws of Sines and Cosines and use them to solve problems',\n",
      "        0.41049987580539354),\n",
      "    (   1267,\n",
      "        'prove the Laws of Sines and Cosines and use them to solve problems',\n",
      "        0.41049987580539354)]\n"
     ]
    }
   ],
   "source": [
    "(phrase, phrase_scores) = get_least_similar_phrases(spacy_similarity, corpus, 100)\n",
    "print(\"phrase: %s\\nsimilar phrases:\" % phrase)\n",
    "pp.pprint(phrase_scores)"
   ]
  },
  {
   "cell_type": "markdown",
   "metadata": {},
   "source": [
    "## Clustering documents based on topic"
   ]
  },
  {
   "cell_type": "code",
   "execution_count": 16,
   "metadata": {},
   "outputs": [],
   "source": [
    "def cluster_phrases(clusterer, topic_model, corpus):\n",
    "    cluster_model = clusterer.fit(topic_model)\n",
    "    cluster_topics = cluster_model.predict(topic_model)\n",
    "    score_clusters = cluster_model.transform(topic_model).min(axis=1)\n",
    "    clustered_corpus = [list(phrase) for phrase in zip(cluster_topics, corpus, score_clusters)]\n",
    "    return (cluster_model, clustered_corpus)\n",
    "\n",
    "def get_cluster_phrases(clustered_corpus, cluster_num):\n",
    "    phrases = [phrase for phrase in clustered_corpus if phrase[0] == cluster_num]\n",
    "    phrases_sorted = sorted(phrases, key=lambda t: t[2])[:10]\n",
    "    return phrases_sorted"
   ]
  },
  {
   "cell_type": "code",
   "execution_count": 17,
   "metadata": {
    "scrolled": true
   },
   "outputs": [
    {
     "data": {
      "text/plain": [
       "[[1, 'find inverse functions', 0.03914723410763986],\n",
       " [1, 'find inverse functions', 0.03914723410763986],\n",
       " [1, 'find inverse functions', 0.03914723410763986],\n",
       " [1, 'find inverse functions', 0.03914723410763986],\n",
       " [1, 'determine the limit of a sequence', 0.048497423485482645],\n",
       " [1, 'investigate transformations of functions', 0.048497423691121755],\n",
       " [1,\n",
       "  'determine where a function fails to be differentiable',\n",
       "  0.048497423960865337],\n",
       " [1,\n",
       "  'identify types of discontinuities graphically and analytically',\n",
       "  0.07441247397204413],\n",
       " [1, 'calculate limits using algebra', 0.07441248882235074],\n",
       " [1,\n",
       "  'find the angular speed and the magnitude of the acceleration of a particle moving along a curve',\n",
       "  0.07441248940242845]]"
      ]
     },
     "execution_count": 17,
     "metadata": {},
     "output_type": "execute_result"
    }
   ],
   "source": [
    "kmeans, kmeans_corpus = cluster_phrases(KMeans(n_clusters=50, random_state=0), lda_topics, corpus)\n",
    "get_cluster_phrases(kmeans_corpus, 1)"
   ]
  },
  {
   "cell_type": "markdown",
   "metadata": {},
   "source": [
    "# Topic coherence"
   ]
  },
  {
   "cell_type": "code",
   "execution_count": 21,
   "metadata": {},
   "outputs": [
    {
     "ename": "TypeError",
     "evalue": "doc2bow expects an array of unicode tokens on input, not a single string",
     "output_type": "error",
     "traceback": [
      "\u001b[1;31m---------------------------------------------------------------------------\u001b[0m",
      "\u001b[1;31mTypeError\u001b[0m                                 Traceback (most recent call last)",
      "\u001b[1;32m<ipython-input-21-1ede025b7285>\u001b[0m in \u001b[0;36m<module>\u001b[1;34m()\u001b[0m\n\u001b[1;32m----> 1\u001b[1;33m \u001b[0mdictionary\u001b[0m \u001b[1;33m=\u001b[0m \u001b[0mDictionary\u001b[0m\u001b[1;33m(\u001b[0m\u001b[0mcorpus\u001b[0m\u001b[1;33m)\u001b[0m\u001b[1;33m\u001b[0m\u001b[0m\n\u001b[0m",
      "\u001b[1;32m~\\Anaconda3\\envs\\spacy\\lib\\site-packages\\gensim\\corpora\\dictionary.py\u001b[0m in \u001b[0;36m__init__\u001b[1;34m(self, documents, prune_at)\u001b[0m\n\u001b[0;32m     79\u001b[0m \u001b[1;33m\u001b[0m\u001b[0m\n\u001b[0;32m     80\u001b[0m         \u001b[1;32mif\u001b[0m \u001b[0mdocuments\u001b[0m \u001b[1;32mis\u001b[0m \u001b[1;32mnot\u001b[0m \u001b[1;32mNone\u001b[0m\u001b[1;33m:\u001b[0m\u001b[1;33m\u001b[0m\u001b[0m\n\u001b[1;32m---> 81\u001b[1;33m             \u001b[0mself\u001b[0m\u001b[1;33m.\u001b[0m\u001b[0madd_documents\u001b[0m\u001b[1;33m(\u001b[0m\u001b[0mdocuments\u001b[0m\u001b[1;33m,\u001b[0m \u001b[0mprune_at\u001b[0m\u001b[1;33m=\u001b[0m\u001b[0mprune_at\u001b[0m\u001b[1;33m)\u001b[0m\u001b[1;33m\u001b[0m\u001b[0m\n\u001b[0m\u001b[0;32m     82\u001b[0m \u001b[1;33m\u001b[0m\u001b[0m\n\u001b[0;32m     83\u001b[0m     \u001b[1;32mdef\u001b[0m \u001b[0m__getitem__\u001b[0m\u001b[1;33m(\u001b[0m\u001b[0mself\u001b[0m\u001b[1;33m,\u001b[0m \u001b[0mtokenid\u001b[0m\u001b[1;33m)\u001b[0m\u001b[1;33m:\u001b[0m\u001b[1;33m\u001b[0m\u001b[0m\n",
      "\u001b[1;32m~\\Anaconda3\\envs\\spacy\\lib\\site-packages\\gensim\\corpora\\dictionary.py\u001b[0m in \u001b[0;36madd_documents\u001b[1;34m(self, documents, prune_at)\u001b[0m\n\u001b[0;32m    196\u001b[0m \u001b[1;33m\u001b[0m\u001b[0m\n\u001b[0;32m    197\u001b[0m             \u001b[1;31m# update Dictionary with the document\u001b[0m\u001b[1;33m\u001b[0m\u001b[1;33m\u001b[0m\u001b[0m\n\u001b[1;32m--> 198\u001b[1;33m             \u001b[0mself\u001b[0m\u001b[1;33m.\u001b[0m\u001b[0mdoc2bow\u001b[0m\u001b[1;33m(\u001b[0m\u001b[0mdocument\u001b[0m\u001b[1;33m,\u001b[0m \u001b[0mallow_update\u001b[0m\u001b[1;33m=\u001b[0m\u001b[1;32mTrue\u001b[0m\u001b[1;33m)\u001b[0m  \u001b[1;31m# ignore the result, here we only care about updating token ids\u001b[0m\u001b[1;33m\u001b[0m\u001b[0m\n\u001b[0m\u001b[0;32m    199\u001b[0m \u001b[1;33m\u001b[0m\u001b[0m\n\u001b[0;32m    200\u001b[0m         logger.info(\n",
      "\u001b[1;32m~\\Anaconda3\\envs\\spacy\\lib\\site-packages\\gensim\\corpora\\dictionary.py\u001b[0m in \u001b[0;36mdoc2bow\u001b[1;34m(self, document, allow_update, return_missing)\u001b[0m\n\u001b[0;32m    234\u001b[0m         \"\"\"\n\u001b[0;32m    235\u001b[0m         \u001b[1;32mif\u001b[0m \u001b[0misinstance\u001b[0m\u001b[1;33m(\u001b[0m\u001b[0mdocument\u001b[0m\u001b[1;33m,\u001b[0m \u001b[0mstring_types\u001b[0m\u001b[1;33m)\u001b[0m\u001b[1;33m:\u001b[0m\u001b[1;33m\u001b[0m\u001b[0m\n\u001b[1;32m--> 236\u001b[1;33m             \u001b[1;32mraise\u001b[0m \u001b[0mTypeError\u001b[0m\u001b[1;33m(\u001b[0m\u001b[1;34m\"doc2bow expects an array of unicode tokens on input, not a single string\"\u001b[0m\u001b[1;33m)\u001b[0m\u001b[1;33m\u001b[0m\u001b[0m\n\u001b[0m\u001b[0;32m    237\u001b[0m \u001b[1;33m\u001b[0m\u001b[0m\n\u001b[0;32m    238\u001b[0m         \u001b[1;31m# Construct (word, frequency) mapping.\u001b[0m\u001b[1;33m\u001b[0m\u001b[1;33m\u001b[0m\u001b[0m\n",
      "\u001b[1;31mTypeError\u001b[0m: doc2bow expects an array of unicode tokens on input, not a single string"
     ]
    }
   ],
   "source": [
    "dictionary = Dictionary(corpus)\n"
   ]
  },
  {
   "cell_type": "code",
   "execution_count": null,
   "metadata": {},
   "outputs": [],
   "source": [
    "coherence_model_lda = CoherenceModel(model=lda, texts=corpus, dictionary=dictionary, coherence='c_v')\n",
    "coherence_lda = coherence_model_lda.get_coherence()\n",
    "print('\\nCoherence Score: ', coherence_lda)"
   ]
  }
 ],
 "metadata": {
  "kernelspec": {
   "display_name": "Python 3",
   "language": "python",
   "name": "python3"
  },
  "language_info": {
   "codemirror_mode": {
    "name": "ipython",
    "version": 3
   },
   "file_extension": ".py",
   "mimetype": "text/x-python",
   "name": "python",
   "nbconvert_exporter": "python",
   "pygments_lexer": "ipython3",
   "version": "3.6.5"
  }
 },
 "nbformat": 4,
 "nbformat_minor": 2
}
