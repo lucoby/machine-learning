{
 "cells": [
  {
   "cell_type": "markdown",
   "metadata": {},
   "source": [
    "# Data Analysis\n",
    "\n",
    "## Pandas - Datasets\n",
    "\n",
    "Pandas is a high-level data manipulation tool. Its key data structure is called a DataFrame. DataFrames allow you to store and manipulate tabular data in rows of observations and columns of variables.\n",
    "\n",
    "[This](https://pandas.pydata.org/pandas-docs/stable/index.html) is a link to the Pandas documentation.\n",
    "\n",
    "## Imports"
   ]
  },
  {
   "cell_type": "code",
   "execution_count": 48,
   "metadata": {},
   "outputs": [],
   "source": [
    "import matplotlib.pyplot as plt\n",
    "import numpy as np\n",
    "import pandas as pd\n",
    "import seaborn as sns"
   ]
  },
  {
   "cell_type": "markdown",
   "metadata": {},
   "source": [
    "## Loading a dataset from a csv (in DSX)\n",
    "\n",
    "Auto-generate code by ... \n",
    "\n",
    "If you were working in your own local environment, uncomment the cell below and run it."
   ]
  },
  {
   "cell_type": "code",
   "execution_count": 20,
   "metadata": {},
   "outputs": [
    {
     "name": "stdout",
     "output_type": "stream",
     "text": [
      "   group   samples    double  measured\n",
      "0      1  0.899117  1.798234  1.822831\n",
      "1      1  0.642620  1.285241  1.358457\n",
      "2      1  0.799750  1.599499  1.560856\n",
      "3      1  0.354839  0.709678  0.752218\n",
      "4      1  0.327910  0.655821  0.615724\n"
     ]
    }
   ],
   "source": [
    "simple_df = pd.read_csv('simple data.csv')\n",
    "print(simple_df.head())"
   ]
  },
  {
   "cell_type": "code",
   "execution_count": 37,
   "metadata": {},
   "outputs": [
    {
     "data": {
      "text/html": [
       "<div>\n",
       "<style scoped>\n",
       "    .dataframe tbody tr th:only-of-type {\n",
       "        vertical-align: middle;\n",
       "    }\n",
       "\n",
       "    .dataframe tbody tr th {\n",
       "        vertical-align: top;\n",
       "    }\n",
       "\n",
       "    .dataframe thead th {\n",
       "        text-align: right;\n",
       "    }\n",
       "</style>\n",
       "<table border=\"1\" class=\"dataframe\">\n",
       "  <thead>\n",
       "    <tr style=\"text-align: right;\">\n",
       "      <th></th>\n",
       "      <th>group</th>\n",
       "      <th>name</th>\n",
       "    </tr>\n",
       "  </thead>\n",
       "  <tbody>\n",
       "    <tr>\n",
       "      <th>0</th>\n",
       "      <td>1</td>\n",
       "      <td>Group 1</td>\n",
       "    </tr>\n",
       "    <tr>\n",
       "      <th>1</th>\n",
       "      <td>2</td>\n",
       "      <td>Group 2</td>\n",
       "    </tr>\n",
       "  </tbody>\n",
       "</table>\n",
       "</div>"
      ],
      "text/plain": [
       "   group     name\n",
       "0      1  Group 1\n",
       "1      2  Group 2"
      ]
     },
     "execution_count": 37,
     "metadata": {},
     "output_type": "execute_result"
    }
   ],
   "source": [
    "group_dict = {\"group\": [1, 2],\n",
    "       \"name\": ['Group 1', 'Group 2']}\n",
    "\n",
    "group_name_df = pd.DataFrame(group_dict)\n",
    "group_name_df.head()"
   ]
  },
  {
   "cell_type": "markdown",
   "metadata": {},
   "source": [
    "## Working with data\n",
    "\n",
    "### Creating a column\n",
    "\n",
    "We can refer to a particular column using dataframe['column name']. This method of indexing is consistent with indexing lists and dictionaries. \n",
    "\n",
    "Using dataframe['column name'] on the left side of the \"=\" creates a new column or overwrite a column. Using dataframe['column name'] on the right side of the \"=\" allows you to refer to an existing column."
   ]
  },
  {
   "cell_type": "code",
   "execution_count": 21,
   "metadata": {},
   "outputs": [
    {
     "data": {
      "text/html": [
       "<div>\n",
       "<style scoped>\n",
       "    .dataframe tbody tr th:only-of-type {\n",
       "        vertical-align: middle;\n",
       "    }\n",
       "\n",
       "    .dataframe tbody tr th {\n",
       "        vertical-align: top;\n",
       "    }\n",
       "\n",
       "    .dataframe thead th {\n",
       "        text-align: right;\n",
       "    }\n",
       "</style>\n",
       "<table border=\"1\" class=\"dataframe\">\n",
       "  <thead>\n",
       "    <tr style=\"text-align: right;\">\n",
       "      <th></th>\n",
       "      <th>group</th>\n",
       "      <th>samples</th>\n",
       "      <th>double</th>\n",
       "      <th>measured</th>\n",
       "      <th>half</th>\n",
       "      <th>samples+10</th>\n",
       "    </tr>\n",
       "  </thead>\n",
       "  <tbody>\n",
       "    <tr>\n",
       "      <th>0</th>\n",
       "      <td>1</td>\n",
       "      <td>0.899117</td>\n",
       "      <td>1.798234</td>\n",
       "      <td>1.822831</td>\n",
       "      <td>False</td>\n",
       "      <td>10.899117</td>\n",
       "    </tr>\n",
       "    <tr>\n",
       "      <th>1</th>\n",
       "      <td>1</td>\n",
       "      <td>0.642620</td>\n",
       "      <td>1.285241</td>\n",
       "      <td>1.358457</td>\n",
       "      <td>False</td>\n",
       "      <td>10.642620</td>\n",
       "    </tr>\n",
       "    <tr>\n",
       "      <th>2</th>\n",
       "      <td>1</td>\n",
       "      <td>0.799750</td>\n",
       "      <td>1.599499</td>\n",
       "      <td>1.560856</td>\n",
       "      <td>False</td>\n",
       "      <td>10.799750</td>\n",
       "    </tr>\n",
       "    <tr>\n",
       "      <th>3</th>\n",
       "      <td>1</td>\n",
       "      <td>0.354839</td>\n",
       "      <td>0.709678</td>\n",
       "      <td>0.752218</td>\n",
       "      <td>True</td>\n",
       "      <td>10.354839</td>\n",
       "    </tr>\n",
       "    <tr>\n",
       "      <th>4</th>\n",
       "      <td>1</td>\n",
       "      <td>0.327910</td>\n",
       "      <td>0.655821</td>\n",
       "      <td>0.615724</td>\n",
       "      <td>True</td>\n",
       "      <td>10.327910</td>\n",
       "    </tr>\n",
       "  </tbody>\n",
       "</table>\n",
       "</div>"
      ],
      "text/plain": [
       "   group   samples    double  measured   half  samples+10\n",
       "0      1  0.899117  1.798234  1.822831  False   10.899117\n",
       "1      1  0.642620  1.285241  1.358457  False   10.642620\n",
       "2      1  0.799750  1.599499  1.560856  False   10.799750\n",
       "3      1  0.354839  0.709678  0.752218   True   10.354839\n",
       "4      1  0.327910  0.655821  0.615724   True   10.327910"
      ]
     },
     "execution_count": 21,
     "metadata": {},
     "output_type": "execute_result"
    }
   ],
   "source": [
    "simple_df['half'] = simple_df['samples'] <= 0.5\n",
    "simple_df['samples+10'] = simple_df['samples'] + 10\n",
    "\n",
    "\n",
    "simple_df.head()"
   ]
  },
  {
   "cell_type": "markdown",
   "metadata": {},
   "source": [
    "### Selecting data\n",
    "\n",
    "Similar to referring to a particular column, you can refer to a list of columns. Generally you can do this with dataframe[[list of column names]]. This can be used to \"keep\" only the list of columns.\n",
    "\n",
    "If you would rather just drop a smaller set of columns that's also possible. \n",
    "\n",
    "If you want to filter out rows you can do that using .loc[] i.e. dataframe.loc[condition]. You can combine multiple conditions together using & and | operators. You can filter columns and rows in the same operation using the .loc[] i.e. dataframe.loc[condition, [list of columns]]."
   ]
  },
  {
   "cell_type": "code",
   "execution_count": 32,
   "metadata": {},
   "outputs": [
    {
     "data": {
      "text/html": [
       "<div>\n",
       "<style scoped>\n",
       "    .dataframe tbody tr th:only-of-type {\n",
       "        vertical-align: middle;\n",
       "    }\n",
       "\n",
       "    .dataframe tbody tr th {\n",
       "        vertical-align: top;\n",
       "    }\n",
       "\n",
       "    .dataframe thead th {\n",
       "        text-align: right;\n",
       "    }\n",
       "</style>\n",
       "<table border=\"1\" class=\"dataframe\">\n",
       "  <thead>\n",
       "    <tr style=\"text-align: right;\">\n",
       "      <th></th>\n",
       "      <th>group</th>\n",
       "      <th>half</th>\n",
       "      <th>samples</th>\n",
       "      <th>measured</th>\n",
       "    </tr>\n",
       "  </thead>\n",
       "  <tbody>\n",
       "    <tr>\n",
       "      <th>0</th>\n",
       "      <td>1</td>\n",
       "      <td>False</td>\n",
       "      <td>0.899117</td>\n",
       "      <td>1.822831</td>\n",
       "    </tr>\n",
       "    <tr>\n",
       "      <th>1</th>\n",
       "      <td>1</td>\n",
       "      <td>False</td>\n",
       "      <td>0.642620</td>\n",
       "      <td>1.358457</td>\n",
       "    </tr>\n",
       "    <tr>\n",
       "      <th>2</th>\n",
       "      <td>1</td>\n",
       "      <td>False</td>\n",
       "      <td>0.799750</td>\n",
       "      <td>1.560856</td>\n",
       "    </tr>\n",
       "    <tr>\n",
       "      <th>3</th>\n",
       "      <td>1</td>\n",
       "      <td>True</td>\n",
       "      <td>0.354839</td>\n",
       "      <td>0.752218</td>\n",
       "    </tr>\n",
       "    <tr>\n",
       "      <th>4</th>\n",
       "      <td>1</td>\n",
       "      <td>True</td>\n",
       "      <td>0.327910</td>\n",
       "      <td>0.615724</td>\n",
       "    </tr>\n",
       "  </tbody>\n",
       "</table>\n",
       "</div>"
      ],
      "text/plain": [
       "   group   half   samples  measured\n",
       "0      1  False  0.899117  1.822831\n",
       "1      1  False  0.642620  1.358457\n",
       "2      1  False  0.799750  1.560856\n",
       "3      1   True  0.354839  0.752218\n",
       "4      1   True  0.327910  0.615724"
      ]
     },
     "execution_count": 32,
     "metadata": {},
     "output_type": "execute_result"
    }
   ],
   "source": [
    "simple_test_df = simple_df[['group', 'half', 'samples', 'measured']]\n",
    "simple_test_df.head()"
   ]
  },
  {
   "cell_type": "code",
   "execution_count": 33,
   "metadata": {},
   "outputs": [
    {
     "data": {
      "text/html": [
       "<div>\n",
       "<style scoped>\n",
       "    .dataframe tbody tr th:only-of-type {\n",
       "        vertical-align: middle;\n",
       "    }\n",
       "\n",
       "    .dataframe tbody tr th {\n",
       "        vertical-align: top;\n",
       "    }\n",
       "\n",
       "    .dataframe thead th {\n",
       "        text-align: right;\n",
       "    }\n",
       "</style>\n",
       "<table border=\"1\" class=\"dataframe\">\n",
       "  <thead>\n",
       "    <tr style=\"text-align: right;\">\n",
       "      <th></th>\n",
       "      <th>group</th>\n",
       "      <th>measured</th>\n",
       "      <th>samples+10</th>\n",
       "    </tr>\n",
       "  </thead>\n",
       "  <tbody>\n",
       "    <tr>\n",
       "      <th>0</th>\n",
       "      <td>1</td>\n",
       "      <td>1.822831</td>\n",
       "      <td>10.899117</td>\n",
       "    </tr>\n",
       "    <tr>\n",
       "      <th>1</th>\n",
       "      <td>1</td>\n",
       "      <td>1.358457</td>\n",
       "      <td>10.642620</td>\n",
       "    </tr>\n",
       "    <tr>\n",
       "      <th>2</th>\n",
       "      <td>1</td>\n",
       "      <td>1.560856</td>\n",
       "      <td>10.799750</td>\n",
       "    </tr>\n",
       "    <tr>\n",
       "      <th>3</th>\n",
       "      <td>1</td>\n",
       "      <td>0.752218</td>\n",
       "      <td>10.354839</td>\n",
       "    </tr>\n",
       "    <tr>\n",
       "      <th>4</th>\n",
       "      <td>1</td>\n",
       "      <td>0.615724</td>\n",
       "      <td>10.327910</td>\n",
       "    </tr>\n",
       "  </tbody>\n",
       "</table>\n",
       "</div>"
      ],
      "text/plain": [
       "   group  measured  samples+10\n",
       "0      1  1.822831   10.899117\n",
       "1      1  1.358457   10.642620\n",
       "2      1  1.560856   10.799750\n",
       "3      1  0.752218   10.354839\n",
       "4      1  0.615724   10.327910"
      ]
     },
     "execution_count": 33,
     "metadata": {},
     "output_type": "execute_result"
    }
   ],
   "source": [
    "simple_10_df = simple_df.drop(['samples', 'double', 'half'], axis=1)\n",
    "simple_10_df.head()"
   ]
  },
  {
   "cell_type": "code",
   "execution_count": 34,
   "metadata": {},
   "outputs": [
    {
     "data": {
      "text/html": [
       "<div>\n",
       "<style scoped>\n",
       "    .dataframe tbody tr th:only-of-type {\n",
       "        vertical-align: middle;\n",
       "    }\n",
       "\n",
       "    .dataframe tbody tr th {\n",
       "        vertical-align: top;\n",
       "    }\n",
       "\n",
       "    .dataframe thead th {\n",
       "        text-align: right;\n",
       "    }\n",
       "</style>\n",
       "<table border=\"1\" class=\"dataframe\">\n",
       "  <thead>\n",
       "    <tr style=\"text-align: right;\">\n",
       "      <th></th>\n",
       "      <th>group</th>\n",
       "      <th>samples</th>\n",
       "      <th>double</th>\n",
       "      <th>measured</th>\n",
       "      <th>half</th>\n",
       "      <th>samples+10</th>\n",
       "    </tr>\n",
       "  </thead>\n",
       "  <tbody>\n",
       "    <tr>\n",
       "      <th>3</th>\n",
       "      <td>1</td>\n",
       "      <td>0.354839</td>\n",
       "      <td>0.709678</td>\n",
       "      <td>0.752218</td>\n",
       "      <td>True</td>\n",
       "      <td>10.354839</td>\n",
       "    </tr>\n",
       "    <tr>\n",
       "      <th>4</th>\n",
       "      <td>1</td>\n",
       "      <td>0.327910</td>\n",
       "      <td>0.655821</td>\n",
       "      <td>0.615724</td>\n",
       "      <td>True</td>\n",
       "      <td>10.327910</td>\n",
       "    </tr>\n",
       "    <tr>\n",
       "      <th>6</th>\n",
       "      <td>1</td>\n",
       "      <td>0.164119</td>\n",
       "      <td>0.328237</td>\n",
       "      <td>0.304313</td>\n",
       "      <td>True</td>\n",
       "      <td>10.164119</td>\n",
       "    </tr>\n",
       "    <tr>\n",
       "      <th>9</th>\n",
       "      <td>1</td>\n",
       "      <td>0.377106</td>\n",
       "      <td>0.754213</td>\n",
       "      <td>0.687244</td>\n",
       "      <td>True</td>\n",
       "      <td>10.377106</td>\n",
       "    </tr>\n",
       "    <tr>\n",
       "      <th>10</th>\n",
       "      <td>1</td>\n",
       "      <td>0.037807</td>\n",
       "      <td>0.075615</td>\n",
       "      <td>0.081660</td>\n",
       "      <td>True</td>\n",
       "      <td>10.037807</td>\n",
       "    </tr>\n",
       "  </tbody>\n",
       "</table>\n",
       "</div>"
      ],
      "text/plain": [
       "    group   samples    double  measured  half  samples+10\n",
       "3       1  0.354839  0.709678  0.752218  True   10.354839\n",
       "4       1  0.327910  0.655821  0.615724  True   10.327910\n",
       "6       1  0.164119  0.328237  0.304313  True   10.164119\n",
       "9       1  0.377106  0.754213  0.687244  True   10.377106\n",
       "10      1  0.037807  0.075615  0.081660  True   10.037807"
      ]
     },
     "execution_count": 34,
     "metadata": {},
     "output_type": "execute_result"
    }
   ],
   "source": [
    "simple_half_df = simple_df.loc[simple_df['half'] == True]\n",
    "simple_half_df.head()"
   ]
  },
  {
   "cell_type": "code",
   "execution_count": 35,
   "metadata": {},
   "outputs": [
    {
     "data": {
      "text/html": [
       "<div>\n",
       "<style scoped>\n",
       "    .dataframe tbody tr th:only-of-type {\n",
       "        vertical-align: middle;\n",
       "    }\n",
       "\n",
       "    .dataframe tbody tr th {\n",
       "        vertical-align: top;\n",
       "    }\n",
       "\n",
       "    .dataframe thead th {\n",
       "        text-align: right;\n",
       "    }\n",
       "</style>\n",
       "<table border=\"1\" class=\"dataframe\">\n",
       "  <thead>\n",
       "    <tr style=\"text-align: right;\">\n",
       "      <th></th>\n",
       "      <th>group</th>\n",
       "      <th>samples</th>\n",
       "      <th>measured</th>\n",
       "    </tr>\n",
       "  </thead>\n",
       "  <tbody>\n",
       "    <tr>\n",
       "      <th>3</th>\n",
       "      <td>1</td>\n",
       "      <td>0.354839</td>\n",
       "      <td>0.752218</td>\n",
       "    </tr>\n",
       "    <tr>\n",
       "      <th>4</th>\n",
       "      <td>1</td>\n",
       "      <td>0.327910</td>\n",
       "      <td>0.615724</td>\n",
       "    </tr>\n",
       "    <tr>\n",
       "      <th>6</th>\n",
       "      <td>1</td>\n",
       "      <td>0.164119</td>\n",
       "      <td>0.304313</td>\n",
       "    </tr>\n",
       "    <tr>\n",
       "      <th>9</th>\n",
       "      <td>1</td>\n",
       "      <td>0.377106</td>\n",
       "      <td>0.687244</td>\n",
       "    </tr>\n",
       "    <tr>\n",
       "      <th>10</th>\n",
       "      <td>1</td>\n",
       "      <td>0.037807</td>\n",
       "      <td>0.081660</td>\n",
       "    </tr>\n",
       "  </tbody>\n",
       "</table>\n",
       "</div>"
      ],
      "text/plain": [
       "    group   samples  measured\n",
       "3       1  0.354839  0.752218\n",
       "4       1  0.327910  0.615724\n",
       "6       1  0.164119  0.304313\n",
       "9       1  0.377106  0.687244\n",
       "10      1  0.037807  0.081660"
      ]
     },
     "execution_count": 35,
     "metadata": {},
     "output_type": "execute_result"
    }
   ],
   "source": [
    "simple_test_half_df = simple_df.loc[simple_df['half'] == True, ['group', 'samples', 'measured']]\n",
    "simple_test_half_df.head()"
   ]
  },
  {
   "cell_type": "markdown",
   "metadata": {},
   "source": [
    "### Joining a dataset\n",
    "\n",
    "The basic strategy for joining datasets is to set the index of the datasets to same columns. You can then join two dataframes using the join function. Using the optional parameters of the join function you can choose between outer, left, right, and inner joins. If the index was already set you could just use:\n",
    "\n",
    "```python\n",
    "joined_df = left_df.join(right_df)\n",
    "```"
   ]
  },
  {
   "cell_type": "code",
   "execution_count": 38,
   "metadata": {},
   "outputs": [
    {
     "data": {
      "text/html": [
       "<div>\n",
       "<style scoped>\n",
       "    .dataframe tbody tr th:only-of-type {\n",
       "        vertical-align: middle;\n",
       "    }\n",
       "\n",
       "    .dataframe tbody tr th {\n",
       "        vertical-align: top;\n",
       "    }\n",
       "\n",
       "    .dataframe thead th {\n",
       "        text-align: right;\n",
       "    }\n",
       "</style>\n",
       "<table border=\"1\" class=\"dataframe\">\n",
       "  <thead>\n",
       "    <tr style=\"text-align: right;\">\n",
       "      <th></th>\n",
       "      <th>group</th>\n",
       "      <th>half</th>\n",
       "      <th>samples</th>\n",
       "      <th>measured</th>\n",
       "      <th>name</th>\n",
       "    </tr>\n",
       "  </thead>\n",
       "  <tbody>\n",
       "    <tr>\n",
       "      <th>0</th>\n",
       "      <td>1</td>\n",
       "      <td>False</td>\n",
       "      <td>0.899117</td>\n",
       "      <td>1.822831</td>\n",
       "      <td>Group 1</td>\n",
       "    </tr>\n",
       "    <tr>\n",
       "      <th>1</th>\n",
       "      <td>1</td>\n",
       "      <td>False</td>\n",
       "      <td>0.642620</td>\n",
       "      <td>1.358457</td>\n",
       "      <td>Group 1</td>\n",
       "    </tr>\n",
       "    <tr>\n",
       "      <th>2</th>\n",
       "      <td>1</td>\n",
       "      <td>False</td>\n",
       "      <td>0.799750</td>\n",
       "      <td>1.560856</td>\n",
       "      <td>Group 1</td>\n",
       "    </tr>\n",
       "    <tr>\n",
       "      <th>3</th>\n",
       "      <td>1</td>\n",
       "      <td>True</td>\n",
       "      <td>0.354839</td>\n",
       "      <td>0.752218</td>\n",
       "      <td>Group 1</td>\n",
       "    </tr>\n",
       "    <tr>\n",
       "      <th>4</th>\n",
       "      <td>1</td>\n",
       "      <td>True</td>\n",
       "      <td>0.327910</td>\n",
       "      <td>0.615724</td>\n",
       "      <td>Group 1</td>\n",
       "    </tr>\n",
       "  </tbody>\n",
       "</table>\n",
       "</div>"
      ],
      "text/plain": [
       "   group   half   samples  measured     name\n",
       "0      1  False  0.899117  1.822831  Group 1\n",
       "1      1  False  0.642620  1.358457  Group 1\n",
       "2      1  False  0.799750  1.560856  Group 1\n",
       "3      1   True  0.354839  0.752218  Group 1\n",
       "4      1   True  0.327910  0.615724  Group 1"
      ]
     },
     "execution_count": 38,
     "metadata": {},
     "output_type": "execute_result"
    }
   ],
   "source": [
    "join_df = simple_test_df.join(group_name_df.set_index('group'), on='group')\n",
    "join_df.head()"
   ]
  },
  {
   "cell_type": "markdown",
   "metadata": {},
   "source": [
    "### Group-by and statistics\n",
    "\n",
    "The basic strategy for aggregating and getting group statistics is to use the groupby function by passing it a list of the variables that will make up the group.\n",
    "\n",
    "You can then call various functions such as sum(), mean(), etc. that will will calculate the aggregate for the group. Alternatively you can use the agg() function by passing it a dictionary where the keys are the variables you want aggregate statistics of, and the values are a string or list of strings of the different functions you want to aggregate with.\n",
    "\n",
    "The groupby() function's level= parameter is useful for merging a more detailed value to a more aggregated value and calculating things based on that."
   ]
  },
  {
   "cell_type": "code",
   "execution_count": 31,
   "metadata": {},
   "outputs": [
    {
     "data": {
      "text/html": [
       "<div>\n",
       "<style scoped>\n",
       "    .dataframe tbody tr th:only-of-type {\n",
       "        vertical-align: middle;\n",
       "    }\n",
       "\n",
       "    .dataframe tbody tr th {\n",
       "        vertical-align: top;\n",
       "    }\n",
       "\n",
       "    .dataframe thead th {\n",
       "        text-align: right;\n",
       "    }\n",
       "</style>\n",
       "<table border=\"1\" class=\"dataframe\">\n",
       "  <thead>\n",
       "    <tr style=\"text-align: right;\">\n",
       "      <th></th>\n",
       "      <th>group</th>\n",
       "      <th>samples</th>\n",
       "      <th>measured</th>\n",
       "    </tr>\n",
       "    <tr>\n",
       "      <th>name</th>\n",
       "      <th></th>\n",
       "      <th></th>\n",
       "      <th></th>\n",
       "    </tr>\n",
       "  </thead>\n",
       "  <tbody>\n",
       "    <tr>\n",
       "      <th>Group 1</th>\n",
       "      <td>1</td>\n",
       "      <td>0.439843</td>\n",
       "      <td>0.871023</td>\n",
       "    </tr>\n",
       "    <tr>\n",
       "      <th>Group 2</th>\n",
       "      <td>2</td>\n",
       "      <td>0.544206</td>\n",
       "      <td>1.205506</td>\n",
       "    </tr>\n",
       "  </tbody>\n",
       "</table>\n",
       "</div>"
      ],
      "text/plain": [
       "         group   samples  measured\n",
       "name                              \n",
       "Group 1      1  0.439843  0.871023\n",
       "Group 2      2  0.544206  1.205506"
      ]
     },
     "execution_count": 31,
     "metadata": {},
     "output_type": "execute_result"
    }
   ],
   "source": [
    "group_df = join_df.groupby(['name']).mean()\n",
    "group_df.head()"
   ]
  },
  {
   "cell_type": "code",
   "execution_count": 41,
   "metadata": {},
   "outputs": [
    {
     "data": {
      "text/html": [
       "<div>\n",
       "<style scoped>\n",
       "    .dataframe tbody tr th:only-of-type {\n",
       "        vertical-align: middle;\n",
       "    }\n",
       "\n",
       "    .dataframe tbody tr th {\n",
       "        vertical-align: top;\n",
       "    }\n",
       "\n",
       "    .dataframe thead tr th {\n",
       "        text-align: left;\n",
       "    }\n",
       "\n",
       "    .dataframe thead tr:last-of-type th {\n",
       "        text-align: right;\n",
       "    }\n",
       "</style>\n",
       "<table border=\"1\" class=\"dataframe\">\n",
       "  <thead>\n",
       "    <tr>\n",
       "      <th></th>\n",
       "      <th></th>\n",
       "      <th>samples</th>\n",
       "      <th colspan=\"4\" halign=\"left\">measured</th>\n",
       "    </tr>\n",
       "    <tr>\n",
       "      <th></th>\n",
       "      <th></th>\n",
       "      <th>mean</th>\n",
       "      <th>mean</th>\n",
       "      <th>min</th>\n",
       "      <th>max</th>\n",
       "      <th>std</th>\n",
       "    </tr>\n",
       "    <tr>\n",
       "      <th>group</th>\n",
       "      <th>half</th>\n",
       "      <th></th>\n",
       "      <th></th>\n",
       "      <th></th>\n",
       "      <th></th>\n",
       "      <th></th>\n",
       "    </tr>\n",
       "  </thead>\n",
       "  <tbody>\n",
       "    <tr>\n",
       "      <th rowspan=\"2\" valign=\"top\">1</th>\n",
       "      <th>False</th>\n",
       "      <td>0.775310</td>\n",
       "      <td>1.548413</td>\n",
       "      <td>0.999779</td>\n",
       "      <td>1.994720</td>\n",
       "      <td>0.288288</td>\n",
       "    </tr>\n",
       "    <tr>\n",
       "      <th>True</th>\n",
       "      <td>0.203491</td>\n",
       "      <td>0.393771</td>\n",
       "      <td>-0.056920</td>\n",
       "      <td>0.912984</td>\n",
       "      <td>0.283018</td>\n",
       "    </tr>\n",
       "    <tr>\n",
       "      <th rowspan=\"2\" valign=\"top\">2</th>\n",
       "      <th>False</th>\n",
       "      <td>0.772493</td>\n",
       "      <td>1.707720</td>\n",
       "      <td>1.097274</td>\n",
       "      <td>2.188951</td>\n",
       "      <td>0.353360</td>\n",
       "    </tr>\n",
       "    <tr>\n",
       "      <th>True</th>\n",
       "      <td>0.220185</td>\n",
       "      <td>0.492687</td>\n",
       "      <td>-0.077870</td>\n",
       "      <td>1.158557</td>\n",
       "      <td>0.388527</td>\n",
       "    </tr>\n",
       "  </tbody>\n",
       "</table>\n",
       "</div>"
      ],
      "text/plain": [
       "              samples  measured                              \n",
       "                 mean      mean       min       max       std\n",
       "group half                                                   \n",
       "1     False  0.775310  1.548413  0.999779  1.994720  0.288288\n",
       "      True   0.203491  0.393771 -0.056920  0.912984  0.283018\n",
       "2     False  0.772493  1.707720  1.097274  2.188951  0.353360\n",
       "      True   0.220185  0.492687 -0.077870  1.158557  0.388527"
      ]
     },
     "execution_count": 41,
     "metadata": {},
     "output_type": "execute_result"
    }
   ],
   "source": [
    "group_df2 = join_df.groupby(['group', 'half']).agg({'samples': 'mean', 'measured': ['mean', 'min', 'max', 'std']})\n",
    "group_df2.head()"
   ]
  },
  {
   "cell_type": "markdown",
   "metadata": {},
   "source": [
    "### Pivoting and transposing data\n",
    "\n",
    "Pivoting and transposing lets you manipulate or summarize some of the data making it easier to understand."
   ]
  },
  {
   "cell_type": "code",
   "execution_count": 44,
   "metadata": {},
   "outputs": [
    {
     "data": {
      "text/html": [
       "<div>\n",
       "<style scoped>\n",
       "    .dataframe tbody tr th:only-of-type {\n",
       "        vertical-align: middle;\n",
       "    }\n",
       "\n",
       "    .dataframe tbody tr th {\n",
       "        vertical-align: top;\n",
       "    }\n",
       "\n",
       "    .dataframe thead th {\n",
       "        text-align: right;\n",
       "    }\n",
       "</style>\n",
       "<table border=\"1\" class=\"dataframe\">\n",
       "  <thead>\n",
       "    <tr style=\"text-align: right;\">\n",
       "      <th>half</th>\n",
       "      <th>False</th>\n",
       "      <th>True</th>\n",
       "    </tr>\n",
       "    <tr>\n",
       "      <th>group</th>\n",
       "      <th></th>\n",
       "      <th></th>\n",
       "    </tr>\n",
       "  </thead>\n",
       "  <tbody>\n",
       "    <tr>\n",
       "      <th>1</th>\n",
       "      <td>1.548413</td>\n",
       "      <td>0.393771</td>\n",
       "    </tr>\n",
       "    <tr>\n",
       "      <th>2</th>\n",
       "      <td>1.707720</td>\n",
       "      <td>0.492687</td>\n",
       "    </tr>\n",
       "  </tbody>\n",
       "</table>\n",
       "</div>"
      ],
      "text/plain": [
       "half      False     True \n",
       "group                    \n",
       "1      1.548413  0.393771\n",
       "2      1.707720  0.492687"
      ]
     },
     "execution_count": 44,
     "metadata": {},
     "output_type": "execute_result"
    }
   ],
   "source": [
    "pivot_df =  join_df.groupby(['group', 'half']).agg({'measured': 'mean'}).reset_index()\n",
    "\n",
    "\n",
    "pivot_df = pivot_df.pivot(index='group', columns='half', values='measured')\n",
    "pivot_df.head()"
   ]
  },
  {
   "cell_type": "markdown",
   "metadata": {},
   "source": [
    "## Plotting\n",
    "\n",
    "Plotting is another way of visualizing the data. Pandas provide some ways to plot the data. It depends on the matplotlib library which provides a set of plotting functions that have a similar syntax to Matlab's plotting functions. Seaborn is a Python library that provides some useful plotting functions and some functionality around generating 'prettier' plots.\n",
    "\n",
    "### Bar graphs"
   ]
  },
  {
   "cell_type": "code",
   "execution_count": 49,
   "metadata": {},
   "outputs": [
    {
     "data": {
      "image/png": "[encoded data removed]",
      "text/plain": [
       "<Figure size 432x288 with 1 Axes>"
      ]
     },
     "metadata": {},
     "output_type": "display_data"
    }
   ],
   "source": [
    "bar_graph_df = join_df.groupby(['group', 'half']).mean().reset_index()\n",
    "\n",
    "ax = sns.barplot(x=\"group\", \n",
    "                 y=\"measured\", \n",
    "                 hue='half', \n",
    "                 data=bar_graph_df)\n",
    "plt.show()"
   ]
  },
  {
   "cell_type": "markdown",
   "metadata": {},
   "source": [
    "### Scatter plots"
   ]
  },
  {
   "cell_type": "code",
   "execution_count": 53,
   "metadata": {},
   "outputs": [
    {
     "data": {
      "image/png": "[encoded data removed]",
      "text/plain": [
       "<Figure size 436x360 with 1 Axes>"
      ]
     },
     "metadata": {},
     "output_type": "display_data"
    }
   ],
   "source": [
    "sns.lmplot('samples', # Horizontal axis\n",
    "           'measured', # Vertical axis\n",
    "           data=join_df, # Data source\n",
    "           fit_reg=True, # Don't fix a regression line\n",
    "           hue='name') # Set color\n",
    "\n",
    "# Set title\n",
    "plt.title('Scatter Plot')\n",
    "\n",
    "# Set x-axis label\n",
    "plt.xlabel('Samples')\n",
    "\n",
    "# Set y-axis label\n",
    "plt.ylabel('Measured')\n",
    "\n",
    "plt.show()"
   ]
  },
  {
   "cell_type": "markdown",
   "metadata": {},
   "source": [
    "### Pair-plots"
   ]
  },
  {
   "cell_type": "code",
   "execution_count": 54,
   "metadata": {},
   "outputs": [
    {
     "data": {
      "image/png": "[encoded data removed]",
      "text/plain": [
       "<Figure size 796x720 with 20 Axes>"
      ]
     },
     "metadata": {},
     "output_type": "display_data"
    }
   ],
   "source": [
    "sns.pairplot(join_df, hue=\"name\")\n",
    "plt.show()"
   ]
  }
 ],
 "metadata": {
  "kernelspec": {
   "display_name": "Python 3",
   "language": "python",
   "name": "python3"
  },
  "language_info": {
   "codemirror_mode": {
    "name": "ipython",
    "version": 3
   },
   "file_extension": ".py",
   "mimetype": "text/x-python",
   "name": "python",
   "nbconvert_exporter": "python",
   "pygments_lexer": "ipython3",
   "version": "3.6.5"
  }
 },
 "nbformat": 4,
 "nbformat_minor": 1
}
