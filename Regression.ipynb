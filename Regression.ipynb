{
 "cells": [
  {
   "cell_type": "code",
   "execution_count": 7,
   "metadata": {},
   "outputs": [],
   "source": [
    "%matplotlib inline\n",
    "from matplotlib.colors import ListedColormap\n",
    "import matplotlib.pyplot as plt\n",
    "import numpy as np\n",
    "import pandas as pd\n",
    "import graphviz\n",
    "\n",
    "from sklearn.datasets import load_boston\n",
    "from sklearn.preprocessing import PolynomialFeatures, MinMaxScaler, StandardScaler\n",
    "from sklearn.model_selection import train_test_split, GridSearchCV, ShuffleSplit\n",
    "from sklearn.linear_model import LinearRegression, Lasso, Ridge\n",
    "from sklearn.pipeline import make_pipeline\n",
    "\n",
    "import warnings\n",
    "warnings.filterwarnings(\"ignore\", category=UserWarning)\n",
    "\n",
    "import seaborn as sns"
   ]
  },
  {
   "cell_type": "code",
   "execution_count": 8,
   "metadata": {
    "scrolled": true
   },
   "outputs": [
    {
     "name": "stdout",
     "output_type": "stream",
     "text": [
      "Boston House Prices dataset\n",
      "===========================\n",
      "\n",
      "Notes\n",
      "------\n",
      "Data Set Characteristics:  \n",
      "\n",
      "    :Number of Instances: 506 \n",
      "\n",
      "    :Number of Attributes: 13 numeric/categorical predictive\n",
      "    \n",
      "    :Median Value (attribute 14) is usually the target\n",
      "\n",
      "    :Attribute Information (in order):\n",
      "        - CRIM     per capita crime rate by town\n",
      "        - ZN       proportion of residential land zoned for lots over 25,000 sq.ft.\n",
      "        - INDUS    proportion of non-retail business acres per town\n",
      "        - CHAS     Charles River dummy variable (= 1 if tract bounds river; 0 otherwise)\n",
      "        - NOX      nitric oxides concentration (parts per 10 million)\n",
      "        - RM       average number of rooms per dwelling\n",
      "        - AGE      proportion of owner-occupied units built prior to 1940\n",
      "        - DIS      weighted distances to five Boston employment centres\n",
      "        - RAD      index of accessibility to radial highways\n",
      "        - TAX      full-value property-tax rate per $10,000\n",
      "        - PTRATIO  pupil-teacher ratio by town\n",
      "        - B        1000(Bk - 0.63)^2 where Bk is the proportion of blacks by town\n",
      "        - LSTAT    % lower status of the population\n",
      "        - MEDV     Median value of owner-occupied homes in $1000's\n",
      "\n",
      "    :Missing Attribute Values: None\n",
      "\n",
      "    :Creator: Harrison, D. and Rubinfeld, D.L.\n",
      "\n",
      "This is a copy of UCI ML housing dataset.\n",
      "http://archive.ics.uci.edu/ml/datasets/Housing\n",
      "\n",
      "\n",
      "This dataset was taken from the StatLib library which is maintained at Carnegie Mellon University.\n",
      "\n",
      "The Boston house-price data of Harrison, D. and Rubinfeld, D.L. 'Hedonic\n",
      "prices and the demand for clean air', J. Environ. Economics & Management,\n",
      "vol.5, 81-102, 1978.   Used in Belsley, Kuh & Welsch, 'Regression diagnostics\n",
      "...', Wiley, 1980.   N.B. Various transformations are used in the table on\n",
      "pages 244-261 of the latter.\n",
      "\n",
      "The Boston house-price data has been used in many machine learning papers that address regression\n",
      "problems.   \n",
      "     \n",
      "**References**\n",
      "\n",
      "   - Belsley, Kuh & Welsch, 'Regression diagnostics: Identifying Influential Data and Sources of Collinearity', Wiley, 1980. 244-261.\n",
      "   - Quinlan,R. (1993). Combining Instance-Based and Model-Based Learning. In Proceedings on the Tenth International Conference of Machine Learning, 236-243, University of Massachusetts, Amherst. Morgan Kaufmann.\n",
      "   - many more! (see http://archive.ics.uci.edu/ml/datasets/Housing)\n",
      "\n",
      "Shape: (506, 13)\n"
     ]
    }
   ],
   "source": [
    "data_boston = load_boston()\n",
    "print(data_boston.DESCR)\n",
    "print(\"Shape:\", data_boston.data.shape)\n",
    "\n",
    "X_train, X_test, y_train, y_test = train_test_split(data_boston.data, data_boston.target, test_size=0.20)"
   ]
  },
  {
   "cell_type": "code",
   "execution_count": 9,
   "metadata": {
    "scrolled": true
   },
   "outputs": [
    {
     "name": "stdout",
     "output_type": "stream",
     "text": [
      "<class 'sklearn.linear_model.base.LinearRegression'>\n",
      "                              params  mean_fit_time  mean_score_time  \\\n",
      "1  {'polynomialfeatures__degree': 2}       0.007115         0.002431   \n",
      "0  {'polynomialfeatures__degree': 1}       0.002324         0.000949   \n",
      "3  {'polynomialfeatures__degree': 4}       0.135308         0.048760   \n",
      "2  {'polynomialfeatures__degree': 3}       0.055854         0.010824   \n",
      "\n",
      "   mean_test_score  \n",
      "1         0.732345  \n",
      "0         0.717943  \n",
      "3     -1441.482409  \n",
      "2     -1597.457245  \n",
      "<class 'sklearn.linear_model.coordinate_descent.Lasso'>\n",
      "                              params  mean_fit_time  mean_score_time  \\\n",
      "1  {'polynomialfeatures__degree': 2}       0.037231         0.003431   \n",
      "0  {'polynomialfeatures__degree': 1}       0.001051         0.000791   \n",
      "2  {'polynomialfeatures__degree': 3}       0.199968         0.011112   \n",
      "3  {'polynomialfeatures__degree': 4}       0.881153         0.033844   \n",
      "\n",
      "   mean_test_score  \n",
      "1         0.828389  \n",
      "0         0.669705  \n",
      "2         0.368445  \n",
      "3        -2.048730  \n"
     ]
    },
    {
     "name": "stderr",
     "output_type": "stream",
     "text": [
      "C:\\Users\\CobyLU\\Anaconda3\\lib\\site-packages\\sklearn\\linear_model\\ridge.py:152: LinAlgWarning: scipy.linalg.solve\n",
      "Ill-conditioned matrix detected. Result is not guaranteed to be accurate.\n",
      "Reciprocal condition number1.686867e-19\n",
      "  overwrite_a=False)\n",
      "C:\\Users\\CobyLU\\Anaconda3\\lib\\site-packages\\sklearn\\linear_model\\ridge.py:152: LinAlgWarning: scipy.linalg.solve\n",
      "Ill-conditioned matrix detected. Result is not guaranteed to be accurate.\n",
      "Reciprocal condition number1.813703e-19\n",
      "  overwrite_a=False)\n"
     ]
    },
    {
     "name": "stdout",
     "output_type": "stream",
     "text": [
      "<class 'sklearn.linear_model.ridge.Ridge'>\n",
      "                              params  mean_fit_time  mean_score_time  \\\n",
      "1  {'polynomialfeatures__degree': 2}       0.003511         0.002150   \n",
      "0  {'polynomialfeatures__degree': 1}       0.001305         0.000481   \n",
      "2  {'polynomialfeatures__degree': 3}       0.040669         0.010342   \n",
      "3  {'polynomialfeatures__degree': 4}       0.095353         0.044213   \n",
      "\n",
      "   mean_test_score  \n",
      "1         0.821751  \n",
      "0         0.714930  \n",
      "2        -5.665710  \n",
      "3      -180.263430  \n"
     ]
    }
   ],
   "source": [
    "def PolynomialRegression(degree=2, linear_model=LinearRegression(), **kwargs):\n",
    "    return make_pipeline(PolynomialFeatures(degree), linear_model(**kwargs))\n",
    "\n",
    "def fit_model(X, y):\n",
    "    # Create cross-validation sets from the training data\n",
    "    cv_sets = ShuffleSplit(n_splits=10, test_size = 0.20, random_state = 0)\n",
    " \n",
    "    #Creating a dictionary for the parameter degree with a range from 1 to 10 and fit_intercept of true or false\n",
    "    params = {'polynomialfeatures__degree': [1,2,3,4]}\n",
    "\n",
    "    best_models = []\n",
    "    for m in [LinearRegression, Lasso, Ridge]:\n",
    "        grid = GridSearchCV(PolynomialRegression(linear_model=m), param_grid = params, \n",
    "                         cv=cv_sets, \n",
    "                         scoring='r2',\n",
    "                         return_train_score=True)\n",
    "        grid = grid.fit(X, y)\n",
    "        cv_results = pd.DataFrame(grid.cv_results_)\n",
    "        print(m)\n",
    "        print(cv_results[['params', 'mean_fit_time', 'mean_score_time', 'mean_test_score']].sort_values(by='mean_test_score', ascending=False))\n",
    "        best_models.append(grid.best_estimator_)\n",
    "    \n",
    "    return best_models\n",
    "\n",
    "#Fitting the training data using grid search\n",
    "models = fit_model(X_train, y_train)"
   ]
  },
  {
   "cell_type": "code",
   "execution_count": 14,
   "metadata": {},
   "outputs": [
    {
     "name": "stdout",
     "output_type": "stream",
     "text": [
      "       CRIM    ZN     INDUS  CHAS       NOX        RM       AGE       DIS  \\\n",
      "0  0.000000  0.18  0.067815   0.0  0.314815  0.577505  0.641607  0.269203   \n",
      "1  0.000236  0.00  0.242302   0.0  0.172840  0.547998  0.782698  0.348962   \n",
      "2  0.000236  0.00  0.242302   0.0  0.172840  0.694386  0.599382  0.348962   \n",
      "3  0.000293  0.00  0.063050   0.0  0.150206  0.658555  0.441813  0.448545   \n",
      "4  0.000705  0.00  0.063050   0.0  0.150206  0.687105  0.528321  0.448545   \n",
      "\n",
      "        RAD       TAX   PTRATIO         B     LSTAT  \n",
      "0  0.000000  0.208015  0.287234  1.000000  0.089680  \n",
      "1  0.043478  0.104962  0.553191  1.000000  0.204470  \n",
      "2  0.043478  0.104962  0.553191  0.989737  0.063466  \n",
      "3  0.086957  0.066794  0.648936  0.994276  0.033389  \n",
      "4  0.086957  0.066794  0.648936  1.000000  0.099338  \n"
     ]
    }
   ],
   "source": [
    "features_transformed = pd.DataFrame(data=data_boston.data, columns=data_boston.feature_names)\n",
    "\n",
    "# Applying scaling using MinMaxScaler\n",
    "scaler = MinMaxScaler()\n",
    "features_transformed[data_boston.feature_names] = scaler.fit_transform(features_transformed)\n",
    "print(features_transformed.head())"
   ]
  },
  {
   "cell_type": "code",
   "execution_count": 15,
   "metadata": {},
   "outputs": [
    {
     "name": "stdout",
     "output_type": "stream",
     "text": [
      "<class 'sklearn.linear_model.base.LinearRegression'>\n",
      "                              params  mean_fit_time  mean_score_time  \\\n",
      "1  {'polynomialfeatures__degree': 2}       0.006915         0.002533   \n",
      "0  {'polynomialfeatures__degree': 1}       0.004193         0.001001   \n",
      "3  {'polynomialfeatures__degree': 4}       0.137997         0.049908   \n",
      "2  {'polynomialfeatures__degree': 3}       0.055528         0.013584   \n",
      "\n",
      "   mean_test_score  \n",
      "1         0.751177  \n",
      "0         0.725487  \n",
      "3       -10.466120  \n",
      "2       -22.506637  \n",
      "<class 'sklearn.linear_model.coordinate_descent.Lasso'>\n",
      "                              params  mean_fit_time  mean_score_time  \\\n",
      "0  {'polynomialfeatures__degree': 1}       0.002511         0.000873   \n",
      "2  {'polynomialfeatures__degree': 3}       0.021671         0.010345   \n",
      "3  {'polynomialfeatures__degree': 4}       0.106638         0.041869   \n",
      "1  {'polynomialfeatures__degree': 2}       0.005462         0.002647   \n",
      "\n",
      "   mean_test_score  \n",
      "0         0.292238  \n",
      "2         0.290059  \n",
      "3         0.289966  \n",
      "1         0.289425  \n",
      "<class 'sklearn.linear_model.ridge.Ridge'>\n",
      "                              params  mean_fit_time  mean_score_time  \\\n",
      "3  {'polynomialfeatures__degree': 4}       0.083167         0.044697   \n",
      "2  {'polynomialfeatures__degree': 3}       0.021830         0.009809   \n",
      "1  {'polynomialfeatures__degree': 2}       0.004780         0.002260   \n",
      "0  {'polynomialfeatures__degree': 1}       0.001872         0.000768   \n",
      "\n",
      "   mean_test_score  \n",
      "3         0.844470  \n",
      "2         0.833279  \n",
      "1         0.811083  \n",
      "0         0.725303  \n"
     ]
    }
   ],
   "source": [
    "X_train_scale, X_test_scale, y_train_scale, y_test_scale = train_test_split(features_transformed, \n",
    "                    data_boston.target, test_size = 0.2, random_state = 0)\n",
    "models = fit_model(X_train_scale, y_train_scale)"
   ]
  },
  {
   "cell_type": "code",
   "execution_count": 29,
   "metadata": {},
   "outputs": [
    {
     "name": "stdout",
     "output_type": "stream",
     "text": [
      "25.452603718075174\n",
      "[ 0.         -0.          0.         -0.          0.         -0.\n",
      "  0.         -0.          0.         -0.         -2.42932061 -0.\n",
      "  0.         -7.8146962 ]\n",
      "-0.01674592237683825\n"
     ]
    }
   ],
   "source": [
    "print(models[0].named_steps['linearregression'].coef_.mean())\n",
    "print(models[1].named_steps['lasso'].coef_)\n",
    "print(models[2].named_steps['ridge'].coef_.mean())"
   ]
  },
  {
   "cell_type": "code",
   "execution_count": 12,
   "metadata": {},
   "outputs": [
    {
     "name": "stdout",
     "output_type": "stream",
     "text": [
      "       CRIM        ZN     INDUS      CHAS       NOX        RM       AGE  \\\n",
      "0 -0.417713  0.284830 -1.287909 -0.272599 -0.144217  0.413672 -0.120013   \n",
      "1 -0.415269 -0.487722 -0.593381 -0.272599 -0.740262  0.194274  0.367166   \n",
      "2 -0.415272 -0.487722 -0.593381 -0.272599 -0.740262  1.282714 -0.265812   \n",
      "3 -0.414680 -0.487722 -1.306878 -0.272599 -0.835284  1.016303 -0.809889   \n",
      "4 -0.410409 -0.487722 -1.306878 -0.272599 -0.835284  1.228577 -0.511180   \n",
      "\n",
      "        DIS       RAD       TAX   PTRATIO         B     LSTAT  \n",
      "0  0.140214 -0.982843 -0.666608 -1.459000  0.441052 -1.075562  \n",
      "1  0.557160 -0.867883 -0.987329 -0.303094  0.441052 -0.492439  \n",
      "2  0.557160 -0.867883 -0.987329 -0.303094  0.396427 -1.208727  \n",
      "3  1.077737 -0.752922 -1.106115  0.113032  0.416163 -1.361517  \n",
      "4  1.077737 -0.752922 -1.106115  0.113032  0.441052 -1.026501  \n",
      "<class 'sklearn.linear_model.base.LinearRegression'>\n",
      "                              params  mean_fit_time  mean_score_time  \\\n",
      "1  {'polynomialfeatures__degree': 2}       0.007109         0.002342   \n",
      "0  {'polynomialfeatures__degree': 1}       0.003235         0.000728   \n",
      "2  {'polynomialfeatures__degree': 3}       0.061123         0.010121   \n",
      "3  {'polynomialfeatures__degree': 4}       0.138962         0.043554   \n",
      "\n",
      "   mean_test_score  \n",
      "1         0.752541  \n",
      "0         0.725487  \n",
      "2      -110.423222  \n",
      "3      -319.735255  \n",
      "<class 'sklearn.linear_model.coordinate_descent.Lasso'>\n",
      "                              params  mean_fit_time  mean_score_time  \\\n",
      "1  {'polynomialfeatures__degree': 2}       0.003906         0.002258   \n",
      "3  {'polynomialfeatures__degree': 4}       0.434415         0.036044   \n",
      "2  {'polynomialfeatures__degree': 3}       0.034745         0.010254   \n",
      "0  {'polynomialfeatures__degree': 1}       0.001565         0.000485   \n",
      "\n",
      "   mean_test_score  \n",
      "1         0.733124  \n",
      "3         0.698656  \n",
      "2         0.674818  \n",
      "0         0.661900  \n",
      "<class 'sklearn.linear_model.ridge.Ridge'>\n",
      "                              params  mean_fit_time  mean_score_time  \\\n",
      "1  {'polynomialfeatures__degree': 2}       0.004389         0.002221   \n",
      "0  {'polynomialfeatures__degree': 1}       0.002092         0.000580   \n",
      "2  {'polynomialfeatures__degree': 3}       0.028924         0.013222   \n",
      "3  {'polynomialfeatures__degree': 4}       0.085092         0.040764   \n",
      "\n",
      "   mean_test_score  \n",
      "1         0.808667  \n",
      "0         0.725393  \n",
      "2         0.719826  \n",
      "3       -13.934554  \n"
     ]
    }
   ],
   "source": [
    "features_transformed = pd.DataFrame(data=data_boston.data, columns=data_boston.feature_names)\n",
    "\n",
    "# Applying scaling using MinMaxScaler to the log transformed data set and storing it in a new data frame called 'features_log_minmax_transform'\n",
    "scaler = StandardScaler()\n",
    "features_transformed[data_boston.feature_names] = scaler.fit_transform(features_transformed)\n",
    "print(features_transformed.head())\n",
    "\n",
    "X_train_scale, X_test_scale, y_train_scale, y_test_scale = train_test_split(features_transformed, \n",
    "                    data_boston.target, test_size = 0.2, random_state = 0)\n",
    "models = fit_model(X_train_scale, y_train_scale)"
   ]
  },
  {
   "cell_type": "code",
   "execution_count": null,
   "metadata": {},
   "outputs": [],
   "source": []
  },
  {
   "cell_type": "code",
   "execution_count": null,
   "metadata": {},
   "outputs": [],
   "source": []
  }
 ],
 "metadata": {
  "kernelspec": {
   "display_name": "Python 3",
   "language": "python",
   "name": "python3"
  },
  "language_info": {
   "codemirror_mode": {
    "name": "ipython",
    "version": 3
   },
   "file_extension": ".py",
   "mimetype": "text/x-python",
   "name": "python",
   "nbconvert_exporter": "python",
   "pygments_lexer": "ipython3",
   "version": "3.6.5"
  }
 },
 "nbformat": 4,
 "nbformat_minor": 2
}
